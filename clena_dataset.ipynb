{
 "cells": [
  {
   "cell_type": "code",
   "execution_count": 1,
   "metadata": {},
   "outputs": [],
   "source": [
    "import numpy as np\n",
    "import pandas as pd\n",
    "import matplotlib.pyplot as plt\n",
    "import seaborn as sns\n",
    "import plotly.express as ex\n",
    "import plotly.graph_objs as go\n",
    "from plotly.subplots import make_subplots\n",
    "from sklearn.preprocessing import LabelEncoder"
   ]
  },
  {
   "cell_type": "code",
   "execution_count": 2,
   "metadata": {},
   "outputs": [],
   "source": [
    "df  =pd.read_csv(\"dataset.csv\")"
   ]
  },
  {
   "cell_type": "code",
   "execution_count": 3,
   "metadata": {},
   "outputs": [
    {
     "data": {
      "text/html": [
       "<div>\n",
       "<style scoped>\n",
       "    .dataframe tbody tr th:only-of-type {\n",
       "        vertical-align: middle;\n",
       "    }\n",
       "\n",
       "    .dataframe tbody tr th {\n",
       "        vertical-align: top;\n",
       "    }\n",
       "\n",
       "    .dataframe thead th {\n",
       "        text-align: right;\n",
       "    }\n",
       "</style>\n",
       "<table border=\"1\" class=\"dataframe\">\n",
       "  <thead>\n",
       "    <tr style=\"text-align: right;\">\n",
       "      <th></th>\n",
       "      <th>X</th>\n",
       "      <th>Y</th>\n",
       "      <th>month</th>\n",
       "      <th>day</th>\n",
       "      <th>FFMC</th>\n",
       "      <th>DMC</th>\n",
       "      <th>DC</th>\n",
       "      <th>ISI</th>\n",
       "      <th>temp</th>\n",
       "      <th>RH</th>\n",
       "      <th>wind</th>\n",
       "      <th>rain</th>\n",
       "      <th>area</th>\n",
       "    </tr>\n",
       "  </thead>\n",
       "  <tbody>\n",
       "    <tr>\n",
       "      <th>0</th>\n",
       "      <td>7</td>\n",
       "      <td>5</td>\n",
       "      <td>mar</td>\n",
       "      <td>fri</td>\n",
       "      <td>86.2</td>\n",
       "      <td>26.2</td>\n",
       "      <td>94.3</td>\n",
       "      <td>5.1</td>\n",
       "      <td>8.2</td>\n",
       "      <td>51</td>\n",
       "      <td>6.7</td>\n",
       "      <td>0.0</td>\n",
       "      <td>0.0</td>\n",
       "    </tr>\n",
       "    <tr>\n",
       "      <th>1</th>\n",
       "      <td>7</td>\n",
       "      <td>4</td>\n",
       "      <td>oct</td>\n",
       "      <td>tue</td>\n",
       "      <td>90.6</td>\n",
       "      <td>35.4</td>\n",
       "      <td>669.1</td>\n",
       "      <td>6.7</td>\n",
       "      <td>18.0</td>\n",
       "      <td>33</td>\n",
       "      <td>0.9</td>\n",
       "      <td>0.0</td>\n",
       "      <td>0.0</td>\n",
       "    </tr>\n",
       "    <tr>\n",
       "      <th>2</th>\n",
       "      <td>7</td>\n",
       "      <td>4</td>\n",
       "      <td>oct</td>\n",
       "      <td>sat</td>\n",
       "      <td>90.6</td>\n",
       "      <td>43.7</td>\n",
       "      <td>686.9</td>\n",
       "      <td>6.7</td>\n",
       "      <td>14.6</td>\n",
       "      <td>33</td>\n",
       "      <td>1.3</td>\n",
       "      <td>0.0</td>\n",
       "      <td>0.0</td>\n",
       "    </tr>\n",
       "    <tr>\n",
       "      <th>3</th>\n",
       "      <td>8</td>\n",
       "      <td>6</td>\n",
       "      <td>mar</td>\n",
       "      <td>fri</td>\n",
       "      <td>91.7</td>\n",
       "      <td>33.3</td>\n",
       "      <td>77.5</td>\n",
       "      <td>9.0</td>\n",
       "      <td>8.3</td>\n",
       "      <td>97</td>\n",
       "      <td>4.0</td>\n",
       "      <td>0.2</td>\n",
       "      <td>0.0</td>\n",
       "    </tr>\n",
       "    <tr>\n",
       "      <th>4</th>\n",
       "      <td>8</td>\n",
       "      <td>6</td>\n",
       "      <td>mar</td>\n",
       "      <td>sun</td>\n",
       "      <td>89.3</td>\n",
       "      <td>51.3</td>\n",
       "      <td>102.2</td>\n",
       "      <td>9.6</td>\n",
       "      <td>11.4</td>\n",
       "      <td>99</td>\n",
       "      <td>1.8</td>\n",
       "      <td>0.0</td>\n",
       "      <td>0.0</td>\n",
       "    </tr>\n",
       "  </tbody>\n",
       "</table>\n",
       "</div>"
      ],
      "text/plain": [
       "   X  Y month  day  FFMC   DMC     DC  ISI  temp  RH  wind  rain  area\n",
       "0  7  5   mar  fri  86.2  26.2   94.3  5.1   8.2  51   6.7   0.0   0.0\n",
       "1  7  4   oct  tue  90.6  35.4  669.1  6.7  18.0  33   0.9   0.0   0.0\n",
       "2  7  4   oct  sat  90.6  43.7  686.9  6.7  14.6  33   1.3   0.0   0.0\n",
       "3  8  6   mar  fri  91.7  33.3   77.5  9.0   8.3  97   4.0   0.2   0.0\n",
       "4  8  6   mar  sun  89.3  51.3  102.2  9.6  11.4  99   1.8   0.0   0.0"
      ]
     },
     "execution_count": 3,
     "metadata": {},
     "output_type": "execute_result"
    }
   ],
   "source": [
    "df.head()"
   ]
  },
  {
   "cell_type": "code",
   "execution_count": 4,
   "metadata": {},
   "outputs": [
    {
     "name": "stdout",
     "output_type": "stream",
     "text": [
      "<class 'pandas.core.frame.DataFrame'>\n",
      "RangeIndex: 517 entries, 0 to 516\n",
      "Data columns (total 13 columns):\n",
      " #   Column  Non-Null Count  Dtype  \n",
      "---  ------  --------------  -----  \n",
      " 0   X       517 non-null    int64  \n",
      " 1   Y       517 non-null    int64  \n",
      " 2   month   517 non-null    object \n",
      " 3   day     517 non-null    object \n",
      " 4   FFMC    517 non-null    float64\n",
      " 5   DMC     517 non-null    float64\n",
      " 6   DC      517 non-null    float64\n",
      " 7   ISI     517 non-null    float64\n",
      " 8   temp    517 non-null    float64\n",
      " 9   RH      517 non-null    int64  \n",
      " 10  wind    517 non-null    float64\n",
      " 11  rain    517 non-null    float64\n",
      " 12  area    517 non-null    float64\n",
      "dtypes: float64(8), int64(3), object(2)\n",
      "memory usage: 52.6+ KB\n"
     ]
    }
   ],
   "source": [
    "df.info()"
   ]
  },
  {
   "cell_type": "code",
   "execution_count": 5,
   "metadata": {},
   "outputs": [],
   "source": [
    "data = df[['month','temp','RH','wind','rain','area']]"
   ]
  },
  {
   "cell_type": "code",
   "execution_count": 6,
   "metadata": {},
   "outputs": [
    {
     "name": "stderr",
     "output_type": "stream",
     "text": [
      "/var/folders/8l/5_phvtl96lqf_3vryzgp2gn00000gn/T/ipykernel_1745/4211094926.py:7: SettingWithCopyWarning: \n",
      "A value is trying to be set on a copy of a slice from a DataFrame.\n",
      "Try using .loc[row_indexer,col_indexer] = value instead\n",
      "\n",
      "See the caveats in the documentation: https://pandas.pydata.org/pandas-docs/stable/user_guide/indexing.html#returning-a-view-versus-a-copy\n",
      "  data['area'] = data['area'].apply(helper1)\n"
     ]
    },
    {
     "data": {
      "text/plain": [
       "area\n",
       "1    270\n",
       "0    247\n",
       "Name: count, dtype: int64"
      ]
     },
     "execution_count": 6,
     "metadata": {},
     "output_type": "execute_result"
    }
   ],
   "source": [
    "def helper1(x):\n",
    "    if x==0:\n",
    "        return 0\n",
    "    else:\n",
    "        return 1\n",
    "\n",
    "data['area'] = data['area'].apply(helper1)\n",
    "data['area'].value_counts()"
   ]
  },
  {
   "cell_type": "code",
   "execution_count": 7,
   "metadata": {},
   "outputs": [
    {
     "name": "stderr",
     "output_type": "stream",
     "text": [
      "/var/folders/8l/5_phvtl96lqf_3vryzgp2gn00000gn/T/ipykernel_1745/2539574500.py:2: SettingWithCopyWarning: \n",
      "A value is trying to be set on a copy of a slice from a DataFrame.\n",
      "Try using .loc[row_indexer,col_indexer] = value instead\n",
      "\n",
      "See the caveats in the documentation: https://pandas.pydata.org/pandas-docs/stable/user_guide/indexing.html#returning-a-view-versus-a-copy\n",
      "  data['month'] = le.fit_transform(data['month'])\n"
     ]
    }
   ],
   "source": [
    "le = LabelEncoder()\n",
    "data['month'] = le.fit_transform(data['month'])"
   ]
  },
  {
   "cell_type": "code",
   "execution_count": 8,
   "metadata": {},
   "outputs": [
    {
     "data": {
      "text/html": [
       "<div>\n",
       "<style scoped>\n",
       "    .dataframe tbody tr th:only-of-type {\n",
       "        vertical-align: middle;\n",
       "    }\n",
       "\n",
       "    .dataframe tbody tr th {\n",
       "        vertical-align: top;\n",
       "    }\n",
       "\n",
       "    .dataframe thead th {\n",
       "        text-align: right;\n",
       "    }\n",
       "</style>\n",
       "<table border=\"1\" class=\"dataframe\">\n",
       "  <thead>\n",
       "    <tr style=\"text-align: right;\">\n",
       "      <th></th>\n",
       "      <th>month</th>\n",
       "      <th>temp</th>\n",
       "      <th>RH</th>\n",
       "      <th>wind</th>\n",
       "      <th>rain</th>\n",
       "      <th>area</th>\n",
       "    </tr>\n",
       "  </thead>\n",
       "  <tbody>\n",
       "    <tr>\n",
       "      <th>0</th>\n",
       "      <td>7</td>\n",
       "      <td>8.2</td>\n",
       "      <td>51</td>\n",
       "      <td>6.7</td>\n",
       "      <td>0.0</td>\n",
       "      <td>0</td>\n",
       "    </tr>\n",
       "    <tr>\n",
       "      <th>1</th>\n",
       "      <td>10</td>\n",
       "      <td>18.0</td>\n",
       "      <td>33</td>\n",
       "      <td>0.9</td>\n",
       "      <td>0.0</td>\n",
       "      <td>0</td>\n",
       "    </tr>\n",
       "    <tr>\n",
       "      <th>2</th>\n",
       "      <td>10</td>\n",
       "      <td>14.6</td>\n",
       "      <td>33</td>\n",
       "      <td>1.3</td>\n",
       "      <td>0.0</td>\n",
       "      <td>0</td>\n",
       "    </tr>\n",
       "    <tr>\n",
       "      <th>3</th>\n",
       "      <td>7</td>\n",
       "      <td>8.3</td>\n",
       "      <td>97</td>\n",
       "      <td>4.0</td>\n",
       "      <td>0.2</td>\n",
       "      <td>0</td>\n",
       "    </tr>\n",
       "    <tr>\n",
       "      <th>4</th>\n",
       "      <td>7</td>\n",
       "      <td>11.4</td>\n",
       "      <td>99</td>\n",
       "      <td>1.8</td>\n",
       "      <td>0.0</td>\n",
       "      <td>0</td>\n",
       "    </tr>\n",
       "  </tbody>\n",
       "</table>\n",
       "</div>"
      ],
      "text/plain": [
       "   month  temp  RH  wind  rain  area\n",
       "0      7   8.2  51   6.7   0.0     0\n",
       "1     10  18.0  33   0.9   0.0     0\n",
       "2     10  14.6  33   1.3   0.0     0\n",
       "3      7   8.3  97   4.0   0.2     0\n",
       "4      7  11.4  99   1.8   0.0     0"
      ]
     },
     "execution_count": 8,
     "metadata": {},
     "output_type": "execute_result"
    }
   ],
   "source": [
    "data.head()"
   ]
  },
  {
   "cell_type": "markdown",
   "metadata": {},
   "source": [
    "Finding and Removing Outliers"
   ]
  },
  {
   "cell_type": "code",
   "execution_count": 20,
   "metadata": {},
   "outputs": [
    {
     "data": {
      "text/plain": [
       "month\n",
       "1     184\n",
       "11    172\n",
       "7      54\n",
       "5      32\n",
       "3      20\n",
       "6      17\n",
       "10     15\n",
       "0       9\n",
       "2       9\n",
       "4       2\n",
       "8       2\n",
       "9       1\n",
       "Name: count, dtype: int64"
      ]
     },
     "execution_count": 20,
     "metadata": {},
     "output_type": "execute_result"
    }
   ],
   "source": [
    "data['month'].value_counts()"
   ]
  },
  {
   "cell_type": "code",
   "execution_count": 9,
   "metadata": {},
   "outputs": [
    {
     "data": {
      "application/vnd.plotly.v1+json": {
       "config": {
        "plotlyServerURL": "https://plot.ly"
       },
       "data": [
        {
         "boxmean": true,
         "name": "temperature Box Plot",
         "type": "box",
         "x": [
          8.2,
          18,
          14.6,
          8.3,
          11.4,
          22.2,
          24.1,
          8,
          13.1,
          22.8,
          17.8,
          19.3,
          17,
          21.3,
          26.4,
          22.9,
          15.1,
          16.7,
          15.9,
          9.3,
          18.3,
          19.1,
          21,
          19.5,
          23.7,
          16.3,
          19,
          19.4,
          30.2,
          22.8,
          25.4,
          11.2,
          20.6,
          17.7,
          21.2,
          18.2,
          21.7,
          11.3,
          17.8,
          14.1,
          23.3,
          18.4,
          16.6,
          19.6,
          12.9,
          25.9,
          14.7,
          23,
          11.8,
          11,
          20.8,
          21.5,
          20.4,
          20.4,
          17.6,
          27.7,
          17.8,
          13.8,
          13.9,
          12.3,
          11.5,
          5.5,
          18.8,
          20.8,
          23.1,
          18.6,
          23,
          19.6,
          19.6,
          17.2,
          15.8,
          17.7,
          15.6,
          17.3,
          27.6,
          6.7,
          15.7,
          8.3,
          14.7,
          21.6,
          19.5,
          17.9,
          18.6,
          16.6,
          20.2,
          21.5,
          25.4,
          22.4,
          25.3,
          17.4,
          14.7,
          17.4,
          20.8,
          18.2,
          23.4,
          17.8,
          12.7,
          17.4,
          11.6,
          19.8,
          19.8,
          14.4,
          20.1,
          24.1,
          5.3,
          12.7,
          18.2,
          21.4,
          20.3,
          17.4,
          13.7,
          18.8,
          22.8,
          18.9,
          15.8,
          15.5,
          11.6,
          15.2,
          10.6,
          19.6,
          10.3,
          17.1,
          22.5,
          17.9,
          19.8,
          20.6,
          9,
          17.2,
          15.9,
          15.4,
          15.4,
          14,
          10.6,
          17.6,
          14.9,
          17.6,
          17.2,
          15.6,
          18,
          21.7,
          21.9,
          23.3,
          21.2,
          16.6,
          23.8,
          27.4,
          13.2,
          24.2,
          17.4,
          23.7,
          23.2,
          24.8,
          24.6,
          20.1,
          29.6,
          16.4,
          28.6,
          18.4,
          20.5,
          19,
          16.1,
          20.3,
          15.2,
          17.8,
          17.8,
          5.3,
          16.6,
          23.4,
          14.6,
          20.7,
          21.9,
          17.4,
          20.1,
          17.7,
          14.2,
          20.3,
          5.8,
          19.2,
          18.3,
          14.4,
          23.9,
          19.1,
          12.4,
          16.8,
          20.8,
          17.6,
          11.5,
          21,
          13.3,
          11.5,
          11.7,
          24.2,
          24.6,
          24.3,
          24.6,
          23.5,
          5.8,
          21.5,
          13.9,
          22.6,
          21.6,
          12.4,
          8.8,
          20.2,
          15.1,
          22.1,
          22.9,
          20.7,
          19.6,
          23.2,
          18.4,
          5.1,
          20.1,
          11,
          17,
          17,
          16.9,
          12.4,
          19.4,
          15.2,
          16.2,
          18.6,
          11,
          13.4,
          15.4,
          22.9,
          16.1,
          20.1,
          28.3,
          16.4,
          26.4,
          27.8,
          18.7,
          24.3,
          17.7,
          19.6,
          18.2,
          18.8,
          25.1,
          13.4,
          15.2,
          16.7,
          15.4,
          21.9,
          22.4,
          26.8,
          25.7,
          20.7,
          28.7,
          21.7,
          26.8,
          24,
          22.1,
          21.4,
          18.9,
          22.3,
          23.9,
          21.4,
          20.6,
          23.7,
          28.3,
          11.2,
          21.4,
          19.3,
          21.8,
          22.1,
          19.4,
          23.7,
          21,
          19.1,
          21.8,
          20.1,
          20.2,
          4.8,
          5.1,
          5.1,
          4.6,
          4.6,
          4.6,
          4.6,
          2.2,
          5.1,
          4.2,
          8.8,
          7.5,
          23.4,
          12.6,
          22.1,
          24.2,
          24.3,
          18.7,
          25.3,
          22.9,
          26.9,
          17.1,
          22.2,
          14.3,
          15.4,
          19.6,
          10.6,
          20.7,
          19.1,
          19.2,
          19.2,
          11.3,
          19,
          17.1,
          23.8,
          16,
          24.9,
          25.3,
          24.8,
          12.2,
          24.3,
          19.7,
          18.5,
          18.6,
          19.2,
          21.6,
          21.6,
          18.9,
          16.8,
          16.8,
          12.9,
          13.7,
          24.2,
          24.1,
          21.2,
          19.7,
          23.5,
          24.2,
          21.5,
          17.1,
          18.1,
          18,
          9.8,
          19.3,
          23,
          22.7,
          20.4,
          19.3,
          15.7,
          20.6,
          15.9,
          12.2,
          16.8,
          21.3,
          10.1,
          17.4,
          12.8,
          10.1,
          15.4,
          20.6,
          19.8,
          18.7,
          20.8,
          20.8,
          15.9,
          19.7,
          21.1,
          18.4,
          17.3,
          15.2,
          15.9,
          21.1,
          19.6,
          15.9,
          16.4,
          16.8,
          13.8,
          13.8,
          14.2,
          10.4,
          20.3,
          10.3,
          15.4,
          21.1,
          21.9,
          8.7,
          5.2,
          19.3,
          16.2,
          28.2,
          20.5,
          21.3,
          20.9,
          20.6,
          11.6,
          23.3,
          23.3,
          7.5,
          20.7,
          21.9,
          15.2,
          5.3,
          10.1,
          20.4,
          24.3,
          25.9,
          28,
          28,
          22.8,
          25,
          21.3,
          21.8,
          27.9,
          17,
          14.2,
          19.9,
          23.4,
          14.7,
          8.2,
          22.8,
          26.4,
          24.1,
          27.5,
          26.3,
          13.8,
          24.9,
          24.8,
          26.2,
          30.8,
          29.3,
          22.3,
          26.9,
          20.4,
          20.4,
          27.9,
          26.2,
          24.6,
          19.4,
          23.3,
          23.9,
          20.9,
          22.2,
          23.8,
          26.8,
          14.2,
          23.6,
          19.1,
          16.2,
          25.5,
          10.9,
          14.8,
          16.2,
          17.3,
          19.1,
          8.9,
          10.5,
          19.3,
          23.4,
          11.8,
          17.7,
          17.4,
          16.8,
          17.9,
          16.6,
          19.9,
          18.9,
          15.5,
          18.9,
          18.9,
          14.5,
          4.6,
          5.1,
          4.6,
          10.2,
          11.2,
          13.3,
          13.7,
          17.6,
          18,
          14.3,
          24.5,
          26.4,
          22.7,
          27.2,
          26.1,
          18.2,
          22.6,
          30.2,
          30.2,
          23.4,
          31,
          33.1,
          30.6,
          24.1,
          26.4,
          19.4,
          20.6,
          28.7,
          32.4,
          32.4,
          27.5,
          30.8,
          23.9,
          32.6,
          32.3,
          33.3,
          27.3,
          21.6,
          21.6,
          20.7,
          29.2,
          28.9,
          26.7,
          18.5,
          25.9,
          25.9,
          21.1,
          18.2,
          27.8,
          27.8,
          21.9,
          21.2,
          25.6,
          11.8
         ],
         "xaxis": "x",
         "yaxis": "y"
        },
        {
         "name": "temp Histogram",
         "type": "histogram",
         "x": [
          8.2,
          18,
          14.6,
          8.3,
          11.4,
          22.2,
          24.1,
          8,
          13.1,
          22.8,
          17.8,
          19.3,
          17,
          21.3,
          26.4,
          22.9,
          15.1,
          16.7,
          15.9,
          9.3,
          18.3,
          19.1,
          21,
          19.5,
          23.7,
          16.3,
          19,
          19.4,
          30.2,
          22.8,
          25.4,
          11.2,
          20.6,
          17.7,
          21.2,
          18.2,
          21.7,
          11.3,
          17.8,
          14.1,
          23.3,
          18.4,
          16.6,
          19.6,
          12.9,
          25.9,
          14.7,
          23,
          11.8,
          11,
          20.8,
          21.5,
          20.4,
          20.4,
          17.6,
          27.7,
          17.8,
          13.8,
          13.9,
          12.3,
          11.5,
          5.5,
          18.8,
          20.8,
          23.1,
          18.6,
          23,
          19.6,
          19.6,
          17.2,
          15.8,
          17.7,
          15.6,
          17.3,
          27.6,
          6.7,
          15.7,
          8.3,
          14.7,
          21.6,
          19.5,
          17.9,
          18.6,
          16.6,
          20.2,
          21.5,
          25.4,
          22.4,
          25.3,
          17.4,
          14.7,
          17.4,
          20.8,
          18.2,
          23.4,
          17.8,
          12.7,
          17.4,
          11.6,
          19.8,
          19.8,
          14.4,
          20.1,
          24.1,
          5.3,
          12.7,
          18.2,
          21.4,
          20.3,
          17.4,
          13.7,
          18.8,
          22.8,
          18.9,
          15.8,
          15.5,
          11.6,
          15.2,
          10.6,
          19.6,
          10.3,
          17.1,
          22.5,
          17.9,
          19.8,
          20.6,
          9,
          17.2,
          15.9,
          15.4,
          15.4,
          14,
          10.6,
          17.6,
          14.9,
          17.6,
          17.2,
          15.6,
          18,
          21.7,
          21.9,
          23.3,
          21.2,
          16.6,
          23.8,
          27.4,
          13.2,
          24.2,
          17.4,
          23.7,
          23.2,
          24.8,
          24.6,
          20.1,
          29.6,
          16.4,
          28.6,
          18.4,
          20.5,
          19,
          16.1,
          20.3,
          15.2,
          17.8,
          17.8,
          5.3,
          16.6,
          23.4,
          14.6,
          20.7,
          21.9,
          17.4,
          20.1,
          17.7,
          14.2,
          20.3,
          5.8,
          19.2,
          18.3,
          14.4,
          23.9,
          19.1,
          12.4,
          16.8,
          20.8,
          17.6,
          11.5,
          21,
          13.3,
          11.5,
          11.7,
          24.2,
          24.6,
          24.3,
          24.6,
          23.5,
          5.8,
          21.5,
          13.9,
          22.6,
          21.6,
          12.4,
          8.8,
          20.2,
          15.1,
          22.1,
          22.9,
          20.7,
          19.6,
          23.2,
          18.4,
          5.1,
          20.1,
          11,
          17,
          17,
          16.9,
          12.4,
          19.4,
          15.2,
          16.2,
          18.6,
          11,
          13.4,
          15.4,
          22.9,
          16.1,
          20.1,
          28.3,
          16.4,
          26.4,
          27.8,
          18.7,
          24.3,
          17.7,
          19.6,
          18.2,
          18.8,
          25.1,
          13.4,
          15.2,
          16.7,
          15.4,
          21.9,
          22.4,
          26.8,
          25.7,
          20.7,
          28.7,
          21.7,
          26.8,
          24,
          22.1,
          21.4,
          18.9,
          22.3,
          23.9,
          21.4,
          20.6,
          23.7,
          28.3,
          11.2,
          21.4,
          19.3,
          21.8,
          22.1,
          19.4,
          23.7,
          21,
          19.1,
          21.8,
          20.1,
          20.2,
          4.8,
          5.1,
          5.1,
          4.6,
          4.6,
          4.6,
          4.6,
          2.2,
          5.1,
          4.2,
          8.8,
          7.5,
          23.4,
          12.6,
          22.1,
          24.2,
          24.3,
          18.7,
          25.3,
          22.9,
          26.9,
          17.1,
          22.2,
          14.3,
          15.4,
          19.6,
          10.6,
          20.7,
          19.1,
          19.2,
          19.2,
          11.3,
          19,
          17.1,
          23.8,
          16,
          24.9,
          25.3,
          24.8,
          12.2,
          24.3,
          19.7,
          18.5,
          18.6,
          19.2,
          21.6,
          21.6,
          18.9,
          16.8,
          16.8,
          12.9,
          13.7,
          24.2,
          24.1,
          21.2,
          19.7,
          23.5,
          24.2,
          21.5,
          17.1,
          18.1,
          18,
          9.8,
          19.3,
          23,
          22.7,
          20.4,
          19.3,
          15.7,
          20.6,
          15.9,
          12.2,
          16.8,
          21.3,
          10.1,
          17.4,
          12.8,
          10.1,
          15.4,
          20.6,
          19.8,
          18.7,
          20.8,
          20.8,
          15.9,
          19.7,
          21.1,
          18.4,
          17.3,
          15.2,
          15.9,
          21.1,
          19.6,
          15.9,
          16.4,
          16.8,
          13.8,
          13.8,
          14.2,
          10.4,
          20.3,
          10.3,
          15.4,
          21.1,
          21.9,
          8.7,
          5.2,
          19.3,
          16.2,
          28.2,
          20.5,
          21.3,
          20.9,
          20.6,
          11.6,
          23.3,
          23.3,
          7.5,
          20.7,
          21.9,
          15.2,
          5.3,
          10.1,
          20.4,
          24.3,
          25.9,
          28,
          28,
          22.8,
          25,
          21.3,
          21.8,
          27.9,
          17,
          14.2,
          19.9,
          23.4,
          14.7,
          8.2,
          22.8,
          26.4,
          24.1,
          27.5,
          26.3,
          13.8,
          24.9,
          24.8,
          26.2,
          30.8,
          29.3,
          22.3,
          26.9,
          20.4,
          20.4,
          27.9,
          26.2,
          24.6,
          19.4,
          23.3,
          23.9,
          20.9,
          22.2,
          23.8,
          26.8,
          14.2,
          23.6,
          19.1,
          16.2,
          25.5,
          10.9,
          14.8,
          16.2,
          17.3,
          19.1,
          8.9,
          10.5,
          19.3,
          23.4,
          11.8,
          17.7,
          17.4,
          16.8,
          17.9,
          16.6,
          19.9,
          18.9,
          15.5,
          18.9,
          18.9,
          14.5,
          4.6,
          5.1,
          4.6,
          10.2,
          11.2,
          13.3,
          13.7,
          17.6,
          18,
          14.3,
          24.5,
          26.4,
          22.7,
          27.2,
          26.1,
          18.2,
          22.6,
          30.2,
          30.2,
          23.4,
          31,
          33.1,
          30.6,
          24.1,
          26.4,
          19.4,
          20.6,
          28.7,
          32.4,
          32.4,
          27.5,
          30.8,
          23.9,
          32.6,
          32.3,
          33.3,
          27.3,
          21.6,
          21.6,
          20.7,
          29.2,
          28.9,
          26.7,
          18.5,
          25.9,
          25.9,
          21.1,
          18.2,
          27.8,
          27.8,
          21.9,
          21.2,
          25.6,
          11.8
         ],
         "xaxis": "x2",
         "yaxis": "y2"
        }
       ],
       "layout": {
        "template": {
         "data": {
          "bar": [
           {
            "error_x": {
             "color": "#2a3f5f"
            },
            "error_y": {
             "color": "#2a3f5f"
            },
            "marker": {
             "line": {
              "color": "#E5ECF6",
              "width": 0.5
             },
             "pattern": {
              "fillmode": "overlay",
              "size": 10,
              "solidity": 0.2
             }
            },
            "type": "bar"
           }
          ],
          "barpolar": [
           {
            "marker": {
             "line": {
              "color": "#E5ECF6",
              "width": 0.5
             },
             "pattern": {
              "fillmode": "overlay",
              "size": 10,
              "solidity": 0.2
             }
            },
            "type": "barpolar"
           }
          ],
          "carpet": [
           {
            "aaxis": {
             "endlinecolor": "#2a3f5f",
             "gridcolor": "white",
             "linecolor": "white",
             "minorgridcolor": "white",
             "startlinecolor": "#2a3f5f"
            },
            "baxis": {
             "endlinecolor": "#2a3f5f",
             "gridcolor": "white",
             "linecolor": "white",
             "minorgridcolor": "white",
             "startlinecolor": "#2a3f5f"
            },
            "type": "carpet"
           }
          ],
          "choropleth": [
           {
            "colorbar": {
             "outlinewidth": 0,
             "ticks": ""
            },
            "type": "choropleth"
           }
          ],
          "contour": [
           {
            "colorbar": {
             "outlinewidth": 0,
             "ticks": ""
            },
            "colorscale": [
             [
              0,
              "#0d0887"
             ],
             [
              0.1111111111111111,
              "#46039f"
             ],
             [
              0.2222222222222222,
              "#7201a8"
             ],
             [
              0.3333333333333333,
              "#9c179e"
             ],
             [
              0.4444444444444444,
              "#bd3786"
             ],
             [
              0.5555555555555556,
              "#d8576b"
             ],
             [
              0.6666666666666666,
              "#ed7953"
             ],
             [
              0.7777777777777778,
              "#fb9f3a"
             ],
             [
              0.8888888888888888,
              "#fdca26"
             ],
             [
              1,
              "#f0f921"
             ]
            ],
            "type": "contour"
           }
          ],
          "contourcarpet": [
           {
            "colorbar": {
             "outlinewidth": 0,
             "ticks": ""
            },
            "type": "contourcarpet"
           }
          ],
          "heatmap": [
           {
            "colorbar": {
             "outlinewidth": 0,
             "ticks": ""
            },
            "colorscale": [
             [
              0,
              "#0d0887"
             ],
             [
              0.1111111111111111,
              "#46039f"
             ],
             [
              0.2222222222222222,
              "#7201a8"
             ],
             [
              0.3333333333333333,
              "#9c179e"
             ],
             [
              0.4444444444444444,
              "#bd3786"
             ],
             [
              0.5555555555555556,
              "#d8576b"
             ],
             [
              0.6666666666666666,
              "#ed7953"
             ],
             [
              0.7777777777777778,
              "#fb9f3a"
             ],
             [
              0.8888888888888888,
              "#fdca26"
             ],
             [
              1,
              "#f0f921"
             ]
            ],
            "type": "heatmap"
           }
          ],
          "heatmapgl": [
           {
            "colorbar": {
             "outlinewidth": 0,
             "ticks": ""
            },
            "colorscale": [
             [
              0,
              "#0d0887"
             ],
             [
              0.1111111111111111,
              "#46039f"
             ],
             [
              0.2222222222222222,
              "#7201a8"
             ],
             [
              0.3333333333333333,
              "#9c179e"
             ],
             [
              0.4444444444444444,
              "#bd3786"
             ],
             [
              0.5555555555555556,
              "#d8576b"
             ],
             [
              0.6666666666666666,
              "#ed7953"
             ],
             [
              0.7777777777777778,
              "#fb9f3a"
             ],
             [
              0.8888888888888888,
              "#fdca26"
             ],
             [
              1,
              "#f0f921"
             ]
            ],
            "type": "heatmapgl"
           }
          ],
          "histogram": [
           {
            "marker": {
             "pattern": {
              "fillmode": "overlay",
              "size": 10,
              "solidity": 0.2
             }
            },
            "type": "histogram"
           }
          ],
          "histogram2d": [
           {
            "colorbar": {
             "outlinewidth": 0,
             "ticks": ""
            },
            "colorscale": [
             [
              0,
              "#0d0887"
             ],
             [
              0.1111111111111111,
              "#46039f"
             ],
             [
              0.2222222222222222,
              "#7201a8"
             ],
             [
              0.3333333333333333,
              "#9c179e"
             ],
             [
              0.4444444444444444,
              "#bd3786"
             ],
             [
              0.5555555555555556,
              "#d8576b"
             ],
             [
              0.6666666666666666,
              "#ed7953"
             ],
             [
              0.7777777777777778,
              "#fb9f3a"
             ],
             [
              0.8888888888888888,
              "#fdca26"
             ],
             [
              1,
              "#f0f921"
             ]
            ],
            "type": "histogram2d"
           }
          ],
          "histogram2dcontour": [
           {
            "colorbar": {
             "outlinewidth": 0,
             "ticks": ""
            },
            "colorscale": [
             [
              0,
              "#0d0887"
             ],
             [
              0.1111111111111111,
              "#46039f"
             ],
             [
              0.2222222222222222,
              "#7201a8"
             ],
             [
              0.3333333333333333,
              "#9c179e"
             ],
             [
              0.4444444444444444,
              "#bd3786"
             ],
             [
              0.5555555555555556,
              "#d8576b"
             ],
             [
              0.6666666666666666,
              "#ed7953"
             ],
             [
              0.7777777777777778,
              "#fb9f3a"
             ],
             [
              0.8888888888888888,
              "#fdca26"
             ],
             [
              1,
              "#f0f921"
             ]
            ],
            "type": "histogram2dcontour"
           }
          ],
          "mesh3d": [
           {
            "colorbar": {
             "outlinewidth": 0,
             "ticks": ""
            },
            "type": "mesh3d"
           }
          ],
          "parcoords": [
           {
            "line": {
             "colorbar": {
              "outlinewidth": 0,
              "ticks": ""
             }
            },
            "type": "parcoords"
           }
          ],
          "pie": [
           {
            "automargin": true,
            "type": "pie"
           }
          ],
          "scatter": [
           {
            "fillpattern": {
             "fillmode": "overlay",
             "size": 10,
             "solidity": 0.2
            },
            "type": "scatter"
           }
          ],
          "scatter3d": [
           {
            "line": {
             "colorbar": {
              "outlinewidth": 0,
              "ticks": ""
             }
            },
            "marker": {
             "colorbar": {
              "outlinewidth": 0,
              "ticks": ""
             }
            },
            "type": "scatter3d"
           }
          ],
          "scattercarpet": [
           {
            "marker": {
             "colorbar": {
              "outlinewidth": 0,
              "ticks": ""
             }
            },
            "type": "scattercarpet"
           }
          ],
          "scattergeo": [
           {
            "marker": {
             "colorbar": {
              "outlinewidth": 0,
              "ticks": ""
             }
            },
            "type": "scattergeo"
           }
          ],
          "scattergl": [
           {
            "marker": {
             "colorbar": {
              "outlinewidth": 0,
              "ticks": ""
             }
            },
            "type": "scattergl"
           }
          ],
          "scattermapbox": [
           {
            "marker": {
             "colorbar": {
              "outlinewidth": 0,
              "ticks": ""
             }
            },
            "type": "scattermapbox"
           }
          ],
          "scatterpolar": [
           {
            "marker": {
             "colorbar": {
              "outlinewidth": 0,
              "ticks": ""
             }
            },
            "type": "scatterpolar"
           }
          ],
          "scatterpolargl": [
           {
            "marker": {
             "colorbar": {
              "outlinewidth": 0,
              "ticks": ""
             }
            },
            "type": "scatterpolargl"
           }
          ],
          "scatterternary": [
           {
            "marker": {
             "colorbar": {
              "outlinewidth": 0,
              "ticks": ""
             }
            },
            "type": "scatterternary"
           }
          ],
          "surface": [
           {
            "colorbar": {
             "outlinewidth": 0,
             "ticks": ""
            },
            "colorscale": [
             [
              0,
              "#0d0887"
             ],
             [
              0.1111111111111111,
              "#46039f"
             ],
             [
              0.2222222222222222,
              "#7201a8"
             ],
             [
              0.3333333333333333,
              "#9c179e"
             ],
             [
              0.4444444444444444,
              "#bd3786"
             ],
             [
              0.5555555555555556,
              "#d8576b"
             ],
             [
              0.6666666666666666,
              "#ed7953"
             ],
             [
              0.7777777777777778,
              "#fb9f3a"
             ],
             [
              0.8888888888888888,
              "#fdca26"
             ],
             [
              1,
              "#f0f921"
             ]
            ],
            "type": "surface"
           }
          ],
          "table": [
           {
            "cells": {
             "fill": {
              "color": "#EBF0F8"
             },
             "line": {
              "color": "white"
             }
            },
            "header": {
             "fill": {
              "color": "#C8D4E3"
             },
             "line": {
              "color": "white"
             }
            },
            "type": "table"
           }
          ]
         },
         "layout": {
          "annotationdefaults": {
           "arrowcolor": "#2a3f5f",
           "arrowhead": 0,
           "arrowwidth": 1
          },
          "autotypenumbers": "strict",
          "coloraxis": {
           "colorbar": {
            "outlinewidth": 0,
            "ticks": ""
           }
          },
          "colorscale": {
           "diverging": [
            [
             0,
             "#8e0152"
            ],
            [
             0.1,
             "#c51b7d"
            ],
            [
             0.2,
             "#de77ae"
            ],
            [
             0.3,
             "#f1b6da"
            ],
            [
             0.4,
             "#fde0ef"
            ],
            [
             0.5,
             "#f7f7f7"
            ],
            [
             0.6,
             "#e6f5d0"
            ],
            [
             0.7,
             "#b8e186"
            ],
            [
             0.8,
             "#7fbc41"
            ],
            [
             0.9,
             "#4d9221"
            ],
            [
             1,
             "#276419"
            ]
           ],
           "sequential": [
            [
             0,
             "#0d0887"
            ],
            [
             0.1111111111111111,
             "#46039f"
            ],
            [
             0.2222222222222222,
             "#7201a8"
            ],
            [
             0.3333333333333333,
             "#9c179e"
            ],
            [
             0.4444444444444444,
             "#bd3786"
            ],
            [
             0.5555555555555556,
             "#d8576b"
            ],
            [
             0.6666666666666666,
             "#ed7953"
            ],
            [
             0.7777777777777778,
             "#fb9f3a"
            ],
            [
             0.8888888888888888,
             "#fdca26"
            ],
            [
             1,
             "#f0f921"
            ]
           ],
           "sequentialminus": [
            [
             0,
             "#0d0887"
            ],
            [
             0.1111111111111111,
             "#46039f"
            ],
            [
             0.2222222222222222,
             "#7201a8"
            ],
            [
             0.3333333333333333,
             "#9c179e"
            ],
            [
             0.4444444444444444,
             "#bd3786"
            ],
            [
             0.5555555555555556,
             "#d8576b"
            ],
            [
             0.6666666666666666,
             "#ed7953"
            ],
            [
             0.7777777777777778,
             "#fb9f3a"
            ],
            [
             0.8888888888888888,
             "#fdca26"
            ],
            [
             1,
             "#f0f921"
            ]
           ]
          },
          "colorway": [
           "#636efa",
           "#EF553B",
           "#00cc96",
           "#ab63fa",
           "#FFA15A",
           "#19d3f3",
           "#FF6692",
           "#B6E880",
           "#FF97FF",
           "#FECB52"
          ],
          "font": {
           "color": "#2a3f5f"
          },
          "geo": {
           "bgcolor": "white",
           "lakecolor": "white",
           "landcolor": "#E5ECF6",
           "showlakes": true,
           "showland": true,
           "subunitcolor": "white"
          },
          "hoverlabel": {
           "align": "left"
          },
          "hovermode": "closest",
          "mapbox": {
           "style": "light"
          },
          "paper_bgcolor": "white",
          "plot_bgcolor": "#E5ECF6",
          "polar": {
           "angularaxis": {
            "gridcolor": "white",
            "linecolor": "white",
            "ticks": ""
           },
           "bgcolor": "#E5ECF6",
           "radialaxis": {
            "gridcolor": "white",
            "linecolor": "white",
            "ticks": ""
           }
          },
          "scene": {
           "xaxis": {
            "backgroundcolor": "#E5ECF6",
            "gridcolor": "white",
            "gridwidth": 2,
            "linecolor": "white",
            "showbackground": true,
            "ticks": "",
            "zerolinecolor": "white"
           },
           "yaxis": {
            "backgroundcolor": "#E5ECF6",
            "gridcolor": "white",
            "gridwidth": 2,
            "linecolor": "white",
            "showbackground": true,
            "ticks": "",
            "zerolinecolor": "white"
           },
           "zaxis": {
            "backgroundcolor": "#E5ECF6",
            "gridcolor": "white",
            "gridwidth": 2,
            "linecolor": "white",
            "showbackground": true,
            "ticks": "",
            "zerolinecolor": "white"
           }
          },
          "shapedefaults": {
           "line": {
            "color": "#2a3f5f"
           }
          },
          "ternary": {
           "aaxis": {
            "gridcolor": "white",
            "linecolor": "white",
            "ticks": ""
           },
           "baxis": {
            "gridcolor": "white",
            "linecolor": "white",
            "ticks": ""
           },
           "bgcolor": "#E5ECF6",
           "caxis": {
            "gridcolor": "white",
            "linecolor": "white",
            "ticks": ""
           }
          },
          "title": {
           "x": 0.05
          },
          "xaxis": {
           "automargin": true,
           "gridcolor": "white",
           "linecolor": "white",
           "ticks": "",
           "title": {
            "standoff": 15
           },
           "zerolinecolor": "white",
           "zerolinewidth": 2
          },
          "yaxis": {
           "automargin": true,
           "gridcolor": "white",
           "linecolor": "white",
           "ticks": "",
           "title": {
            "standoff": 15
           },
           "zerolinecolor": "white",
           "zerolinewidth": 2
          }
         }
        },
        "xaxis": {
         "anchor": "y",
         "domain": [
          0,
          1
         ]
        },
        "xaxis2": {
         "anchor": "y2",
         "domain": [
          0,
          1
         ]
        },
        "yaxis": {
         "anchor": "x",
         "domain": [
          0.575,
          1
         ]
        },
        "yaxis2": {
         "anchor": "x2",
         "domain": [
          0,
          0.425
         ]
        }
       }
      }
     },
     "metadata": {},
     "output_type": "display_data"
    }
   ],
   "source": [
    "fig = make_subplots(rows=2, cols=1)\n",
    "\n",
    "tr1=go.Box(x=data['temp'],name='temperature Box Plot',boxmean=True)\n",
    "tr2=go.Histogram(x=data['temp'],name='temp Histogram')\n",
    "\n",
    "fig.add_trace(tr1,row=1,col=1)\n",
    "fig.add_trace(tr2,row=2,col=1)\n",
    "\n",
    "fig.show()"
   ]
  },
  {
   "cell_type": "code",
   "execution_count": 10,
   "metadata": {},
   "outputs": [],
   "source": [
    "modified_data = data[data['temp']>=4.6]"
   ]
  },
  {
   "cell_type": "code",
   "execution_count": 11,
   "metadata": {},
   "outputs": [
    {
     "data": {
      "application/vnd.plotly.v1+json": {
       "config": {
        "plotlyServerURL": "https://plot.ly"
       },
       "data": [
        {
         "boxmean": true,
         "name": "RH Box Plot",
         "type": "box",
         "x": [
          51,
          33,
          33,
          97,
          99,
          29,
          27,
          86,
          63,
          40,
          51,
          38,
          72,
          42,
          21,
          44,
          27,
          47,
          35,
          44,
          40,
          38,
          44,
          43,
          32,
          60,
          34,
          48,
          24,
          39,
          24,
          78,
          37,
          39,
          32,
          62,
          24,
          60,
          27,
          43,
          37,
          42,
          54,
          48,
          74,
          24,
          70,
          36,
          35,
          46,
          17,
          34,
          42,
          42,
          45,
          24,
          63,
          50,
          40,
          51,
          39,
          59,
          35,
          33,
          31,
          44,
          37,
          33,
          33,
          26,
          27,
          37,
          25,
          43,
          30,
          79,
          43,
          72,
          66,
          19,
          39,
          44,
          51,
          47,
          45,
          15,
          27,
          34,
          36,
          25,
          59,
          24,
          32,
          43,
          22,
          64,
          48,
          24,
          87,
          39,
          39,
          66,
          40,
          29,
          78,
          52,
          29,
          33,
          45,
          56,
          43,
          18,
          39,
          35,
          27,
          27,
          30,
          27,
          30,
          36,
          74,
          43,
          42,
          45,
          50,
          24,
          49,
          43,
          46,
          35,
          40,
          39,
          46,
          42,
          38,
          52,
          58,
          66,
          42,
          38,
          39,
          31,
          51,
          53,
          32,
          22,
          40,
          28,
          43,
          25,
          39,
          29,
          43,
          47,
          27,
          47,
          27,
          45,
          35,
          34,
          29,
          41,
          31,
          56,
          67,
          70,
          47,
          33,
          26,
          45,
          35,
          50,
          39,
          39,
          53,
          39,
          54,
          44,
          45,
          66,
          32,
          32,
          53,
          45,
          34,
          46,
          39,
          42,
          42,
          60,
          33,
          28,
          22,
          25,
          22,
          36,
          54,
          15,
          59,
          38,
          33,
          54,
          68,
          37,
          64,
          34,
          31,
          37,
          33,
          26,
          25,
          96,
          47,
          46,
          27,
          27,
          60,
          73,
          19,
          27,
          59,
          49,
          46,
          79,
          57,
          39,
          44,
          34,
          26,
          43,
          21,
          27,
          43,
          36,
          25,
          41,
          46,
          40,
          27,
          75,
          51,
          20,
          66,
          73,
          54,
          38,
          39,
          70,
          28,
          40,
          25,
          36,
          37,
          38,
          41,
          46,
          41,
          44,
          59,
          40,
          32,
          84,
          42,
          39,
          53,
          54,
          55,
          24,
          32,
          53,
          56,
          58,
          47,
          57,
          61,
          61,
          21,
          21,
          21,
          21,
          59,
          24,
          51,
          35,
          46,
          40,
          90,
          49,
          32,
          30,
          53,
          39,
          40,
          28,
          67,
          48,
          46,
          45,
          43,
          90,
          25,
          39,
          38,
          38,
          94,
          52,
          53,
          35,
          45,
          27,
          27,
          28,
          78,
          27,
          41,
          30,
          24,
          24,
          27,
          28,
          34,
          28,
          28,
          39,
          56,
          27,
          27,
          32,
          35,
          27,
          27,
          28,
          41,
          54,
          51,
          86,
          44,
          34,
          35,
          41,
          44,
          51,
          37,
          51,
          66,
          43,
          35,
          75,
          57,
          64,
          75,
          53,
          43,
          47,
          50,
          35,
          35,
          55,
          39,
          39,
          42,
          45,
          64,
          53,
          35,
          45,
          38,
          27,
          47,
          77,
          77,
          58,
          75,
          42,
          78,
          57,
          54,
          42,
          51,
          100,
          39,
          63,
          29,
          58,
          44,
          50,
          55,
          48,
          34,
          34,
          71,
          46,
          43,
          19,
          68,
          62,
          55,
          33,
          32,
          34,
          34,
          46,
          36,
          41,
          34,
          27,
          67,
          46,
          44,
          31,
          42,
          53,
          27,
          33,
          50,
          27,
          39,
          24,
          42,
          36,
          36,
          19,
          27,
          48,
          31,
          56,
          56,
          33,
          34,
          44,
          45,
          40,
          38,
          66,
          45,
          51,
          35,
          73,
          53,
          46,
          58,
          29,
          64,
          78,
          58,
          80,
          70,
          35,
          77,
          61,
          49,
          88,
          65,
          54,
          56,
          48,
          59,
          50,
          64,
          72,
          64,
          64,
          76,
          82,
          77,
          59,
          45,
          41,
          27,
          33,
          27,
          40,
          79,
          50,
          35,
          40,
          28,
          45,
          82,
          57,
          25,
          22,
          40,
          27,
          25,
          28,
          43,
          34,
          71,
          58,
          33,
          21,
          27,
          29,
          30,
          42,
          26,
          27,
          26,
          63,
          65,
          65,
          69,
          30,
          29,
          35,
          73,
          41,
          41,
          71,
          62,
          35,
          32,
          71,
          70,
          42,
          31
         ],
         "xaxis": "x",
         "yaxis": "y"
        },
        {
         "name": "RH Histogram",
         "type": "histogram",
         "x": [
          51,
          33,
          33,
          97,
          99,
          29,
          27,
          86,
          63,
          40,
          51,
          38,
          72,
          42,
          21,
          44,
          27,
          47,
          35,
          44,
          40,
          38,
          44,
          43,
          32,
          60,
          34,
          48,
          24,
          39,
          24,
          78,
          37,
          39,
          32,
          62,
          24,
          60,
          27,
          43,
          37,
          42,
          54,
          48,
          74,
          24,
          70,
          36,
          35,
          46,
          17,
          34,
          42,
          42,
          45,
          24,
          63,
          50,
          40,
          51,
          39,
          59,
          35,
          33,
          31,
          44,
          37,
          33,
          33,
          26,
          27,
          37,
          25,
          43,
          30,
          79,
          43,
          72,
          66,
          19,
          39,
          44,
          51,
          47,
          45,
          15,
          27,
          34,
          36,
          25,
          59,
          24,
          32,
          43,
          22,
          64,
          48,
          24,
          87,
          39,
          39,
          66,
          40,
          29,
          78,
          52,
          29,
          33,
          45,
          56,
          43,
          18,
          39,
          35,
          27,
          27,
          30,
          27,
          30,
          36,
          74,
          43,
          42,
          45,
          50,
          24,
          49,
          43,
          46,
          35,
          40,
          39,
          46,
          42,
          38,
          52,
          58,
          66,
          42,
          38,
          39,
          31,
          51,
          53,
          32,
          22,
          40,
          28,
          43,
          25,
          39,
          29,
          43,
          47,
          27,
          47,
          27,
          45,
          35,
          34,
          29,
          41,
          31,
          56,
          67,
          70,
          47,
          33,
          26,
          45,
          35,
          50,
          39,
          39,
          53,
          39,
          54,
          44,
          45,
          66,
          32,
          32,
          53,
          45,
          34,
          46,
          39,
          42,
          42,
          60,
          33,
          28,
          22,
          25,
          22,
          36,
          54,
          15,
          59,
          38,
          33,
          54,
          68,
          37,
          64,
          34,
          31,
          37,
          33,
          26,
          25,
          96,
          47,
          46,
          27,
          27,
          60,
          73,
          19,
          27,
          59,
          49,
          46,
          79,
          57,
          39,
          44,
          34,
          26,
          43,
          21,
          27,
          43,
          36,
          25,
          41,
          46,
          40,
          27,
          75,
          51,
          20,
          66,
          73,
          54,
          38,
          39,
          70,
          28,
          40,
          25,
          36,
          37,
          38,
          41,
          46,
          41,
          44,
          59,
          40,
          32,
          84,
          42,
          39,
          53,
          54,
          55,
          24,
          32,
          53,
          56,
          58,
          47,
          57,
          61,
          61,
          21,
          21,
          21,
          21,
          59,
          24,
          51,
          35,
          46,
          40,
          90,
          49,
          32,
          30,
          53,
          39,
          40,
          28,
          67,
          48,
          46,
          45,
          43,
          90,
          25,
          39,
          38,
          38,
          94,
          52,
          53,
          35,
          45,
          27,
          27,
          28,
          78,
          27,
          41,
          30,
          24,
          24,
          27,
          28,
          34,
          28,
          28,
          39,
          56,
          27,
          27,
          32,
          35,
          27,
          27,
          28,
          41,
          54,
          51,
          86,
          44,
          34,
          35,
          41,
          44,
          51,
          37,
          51,
          66,
          43,
          35,
          75,
          57,
          64,
          75,
          53,
          43,
          47,
          50,
          35,
          35,
          55,
          39,
          39,
          42,
          45,
          64,
          53,
          35,
          45,
          38,
          27,
          47,
          77,
          77,
          58,
          75,
          42,
          78,
          57,
          54,
          42,
          51,
          100,
          39,
          63,
          29,
          58,
          44,
          50,
          55,
          48,
          34,
          34,
          71,
          46,
          43,
          19,
          68,
          62,
          55,
          33,
          32,
          34,
          34,
          46,
          36,
          41,
          34,
          27,
          67,
          46,
          44,
          31,
          42,
          53,
          27,
          33,
          50,
          27,
          39,
          24,
          42,
          36,
          36,
          19,
          27,
          48,
          31,
          56,
          56,
          33,
          34,
          44,
          45,
          40,
          38,
          66,
          45,
          51,
          35,
          73,
          53,
          46,
          58,
          29,
          64,
          78,
          58,
          80,
          70,
          35,
          77,
          61,
          49,
          88,
          65,
          54,
          56,
          48,
          59,
          50,
          64,
          72,
          64,
          64,
          76,
          82,
          77,
          59,
          45,
          41,
          27,
          33,
          27,
          40,
          79,
          50,
          35,
          40,
          28,
          45,
          82,
          57,
          25,
          22,
          40,
          27,
          25,
          28,
          43,
          34,
          71,
          58,
          33,
          21,
          27,
          29,
          30,
          42,
          26,
          27,
          26,
          63,
          65,
          65,
          69,
          30,
          29,
          35,
          73,
          41,
          41,
          71,
          62,
          35,
          32,
          71,
          70,
          42,
          31
         ],
         "xaxis": "x2",
         "yaxis": "y2"
        }
       ],
       "layout": {
        "template": {
         "data": {
          "bar": [
           {
            "error_x": {
             "color": "#2a3f5f"
            },
            "error_y": {
             "color": "#2a3f5f"
            },
            "marker": {
             "line": {
              "color": "#E5ECF6",
              "width": 0.5
             },
             "pattern": {
              "fillmode": "overlay",
              "size": 10,
              "solidity": 0.2
             }
            },
            "type": "bar"
           }
          ],
          "barpolar": [
           {
            "marker": {
             "line": {
              "color": "#E5ECF6",
              "width": 0.5
             },
             "pattern": {
              "fillmode": "overlay",
              "size": 10,
              "solidity": 0.2
             }
            },
            "type": "barpolar"
           }
          ],
          "carpet": [
           {
            "aaxis": {
             "endlinecolor": "#2a3f5f",
             "gridcolor": "white",
             "linecolor": "white",
             "minorgridcolor": "white",
             "startlinecolor": "#2a3f5f"
            },
            "baxis": {
             "endlinecolor": "#2a3f5f",
             "gridcolor": "white",
             "linecolor": "white",
             "minorgridcolor": "white",
             "startlinecolor": "#2a3f5f"
            },
            "type": "carpet"
           }
          ],
          "choropleth": [
           {
            "colorbar": {
             "outlinewidth": 0,
             "ticks": ""
            },
            "type": "choropleth"
           }
          ],
          "contour": [
           {
            "colorbar": {
             "outlinewidth": 0,
             "ticks": ""
            },
            "colorscale": [
             [
              0,
              "#0d0887"
             ],
             [
              0.1111111111111111,
              "#46039f"
             ],
             [
              0.2222222222222222,
              "#7201a8"
             ],
             [
              0.3333333333333333,
              "#9c179e"
             ],
             [
              0.4444444444444444,
              "#bd3786"
             ],
             [
              0.5555555555555556,
              "#d8576b"
             ],
             [
              0.6666666666666666,
              "#ed7953"
             ],
             [
              0.7777777777777778,
              "#fb9f3a"
             ],
             [
              0.8888888888888888,
              "#fdca26"
             ],
             [
              1,
              "#f0f921"
             ]
            ],
            "type": "contour"
           }
          ],
          "contourcarpet": [
           {
            "colorbar": {
             "outlinewidth": 0,
             "ticks": ""
            },
            "type": "contourcarpet"
           }
          ],
          "heatmap": [
           {
            "colorbar": {
             "outlinewidth": 0,
             "ticks": ""
            },
            "colorscale": [
             [
              0,
              "#0d0887"
             ],
             [
              0.1111111111111111,
              "#46039f"
             ],
             [
              0.2222222222222222,
              "#7201a8"
             ],
             [
              0.3333333333333333,
              "#9c179e"
             ],
             [
              0.4444444444444444,
              "#bd3786"
             ],
             [
              0.5555555555555556,
              "#d8576b"
             ],
             [
              0.6666666666666666,
              "#ed7953"
             ],
             [
              0.7777777777777778,
              "#fb9f3a"
             ],
             [
              0.8888888888888888,
              "#fdca26"
             ],
             [
              1,
              "#f0f921"
             ]
            ],
            "type": "heatmap"
           }
          ],
          "heatmapgl": [
           {
            "colorbar": {
             "outlinewidth": 0,
             "ticks": ""
            },
            "colorscale": [
             [
              0,
              "#0d0887"
             ],
             [
              0.1111111111111111,
              "#46039f"
             ],
             [
              0.2222222222222222,
              "#7201a8"
             ],
             [
              0.3333333333333333,
              "#9c179e"
             ],
             [
              0.4444444444444444,
              "#bd3786"
             ],
             [
              0.5555555555555556,
              "#d8576b"
             ],
             [
              0.6666666666666666,
              "#ed7953"
             ],
             [
              0.7777777777777778,
              "#fb9f3a"
             ],
             [
              0.8888888888888888,
              "#fdca26"
             ],
             [
              1,
              "#f0f921"
             ]
            ],
            "type": "heatmapgl"
           }
          ],
          "histogram": [
           {
            "marker": {
             "pattern": {
              "fillmode": "overlay",
              "size": 10,
              "solidity": 0.2
             }
            },
            "type": "histogram"
           }
          ],
          "histogram2d": [
           {
            "colorbar": {
             "outlinewidth": 0,
             "ticks": ""
            },
            "colorscale": [
             [
              0,
              "#0d0887"
             ],
             [
              0.1111111111111111,
              "#46039f"
             ],
             [
              0.2222222222222222,
              "#7201a8"
             ],
             [
              0.3333333333333333,
              "#9c179e"
             ],
             [
              0.4444444444444444,
              "#bd3786"
             ],
             [
              0.5555555555555556,
              "#d8576b"
             ],
             [
              0.6666666666666666,
              "#ed7953"
             ],
             [
              0.7777777777777778,
              "#fb9f3a"
             ],
             [
              0.8888888888888888,
              "#fdca26"
             ],
             [
              1,
              "#f0f921"
             ]
            ],
            "type": "histogram2d"
           }
          ],
          "histogram2dcontour": [
           {
            "colorbar": {
             "outlinewidth": 0,
             "ticks": ""
            },
            "colorscale": [
             [
              0,
              "#0d0887"
             ],
             [
              0.1111111111111111,
              "#46039f"
             ],
             [
              0.2222222222222222,
              "#7201a8"
             ],
             [
              0.3333333333333333,
              "#9c179e"
             ],
             [
              0.4444444444444444,
              "#bd3786"
             ],
             [
              0.5555555555555556,
              "#d8576b"
             ],
             [
              0.6666666666666666,
              "#ed7953"
             ],
             [
              0.7777777777777778,
              "#fb9f3a"
             ],
             [
              0.8888888888888888,
              "#fdca26"
             ],
             [
              1,
              "#f0f921"
             ]
            ],
            "type": "histogram2dcontour"
           }
          ],
          "mesh3d": [
           {
            "colorbar": {
             "outlinewidth": 0,
             "ticks": ""
            },
            "type": "mesh3d"
           }
          ],
          "parcoords": [
           {
            "line": {
             "colorbar": {
              "outlinewidth": 0,
              "ticks": ""
             }
            },
            "type": "parcoords"
           }
          ],
          "pie": [
           {
            "automargin": true,
            "type": "pie"
           }
          ],
          "scatter": [
           {
            "fillpattern": {
             "fillmode": "overlay",
             "size": 10,
             "solidity": 0.2
            },
            "type": "scatter"
           }
          ],
          "scatter3d": [
           {
            "line": {
             "colorbar": {
              "outlinewidth": 0,
              "ticks": ""
             }
            },
            "marker": {
             "colorbar": {
              "outlinewidth": 0,
              "ticks": ""
             }
            },
            "type": "scatter3d"
           }
          ],
          "scattercarpet": [
           {
            "marker": {
             "colorbar": {
              "outlinewidth": 0,
              "ticks": ""
             }
            },
            "type": "scattercarpet"
           }
          ],
          "scattergeo": [
           {
            "marker": {
             "colorbar": {
              "outlinewidth": 0,
              "ticks": ""
             }
            },
            "type": "scattergeo"
           }
          ],
          "scattergl": [
           {
            "marker": {
             "colorbar": {
              "outlinewidth": 0,
              "ticks": ""
             }
            },
            "type": "scattergl"
           }
          ],
          "scattermapbox": [
           {
            "marker": {
             "colorbar": {
              "outlinewidth": 0,
              "ticks": ""
             }
            },
            "type": "scattermapbox"
           }
          ],
          "scatterpolar": [
           {
            "marker": {
             "colorbar": {
              "outlinewidth": 0,
              "ticks": ""
             }
            },
            "type": "scatterpolar"
           }
          ],
          "scatterpolargl": [
           {
            "marker": {
             "colorbar": {
              "outlinewidth": 0,
              "ticks": ""
             }
            },
            "type": "scatterpolargl"
           }
          ],
          "scatterternary": [
           {
            "marker": {
             "colorbar": {
              "outlinewidth": 0,
              "ticks": ""
             }
            },
            "type": "scatterternary"
           }
          ],
          "surface": [
           {
            "colorbar": {
             "outlinewidth": 0,
             "ticks": ""
            },
            "colorscale": [
             [
              0,
              "#0d0887"
             ],
             [
              0.1111111111111111,
              "#46039f"
             ],
             [
              0.2222222222222222,
              "#7201a8"
             ],
             [
              0.3333333333333333,
              "#9c179e"
             ],
             [
              0.4444444444444444,
              "#bd3786"
             ],
             [
              0.5555555555555556,
              "#d8576b"
             ],
             [
              0.6666666666666666,
              "#ed7953"
             ],
             [
              0.7777777777777778,
              "#fb9f3a"
             ],
             [
              0.8888888888888888,
              "#fdca26"
             ],
             [
              1,
              "#f0f921"
             ]
            ],
            "type": "surface"
           }
          ],
          "table": [
           {
            "cells": {
             "fill": {
              "color": "#EBF0F8"
             },
             "line": {
              "color": "white"
             }
            },
            "header": {
             "fill": {
              "color": "#C8D4E3"
             },
             "line": {
              "color": "white"
             }
            },
            "type": "table"
           }
          ]
         },
         "layout": {
          "annotationdefaults": {
           "arrowcolor": "#2a3f5f",
           "arrowhead": 0,
           "arrowwidth": 1
          },
          "autotypenumbers": "strict",
          "coloraxis": {
           "colorbar": {
            "outlinewidth": 0,
            "ticks": ""
           }
          },
          "colorscale": {
           "diverging": [
            [
             0,
             "#8e0152"
            ],
            [
             0.1,
             "#c51b7d"
            ],
            [
             0.2,
             "#de77ae"
            ],
            [
             0.3,
             "#f1b6da"
            ],
            [
             0.4,
             "#fde0ef"
            ],
            [
             0.5,
             "#f7f7f7"
            ],
            [
             0.6,
             "#e6f5d0"
            ],
            [
             0.7,
             "#b8e186"
            ],
            [
             0.8,
             "#7fbc41"
            ],
            [
             0.9,
             "#4d9221"
            ],
            [
             1,
             "#276419"
            ]
           ],
           "sequential": [
            [
             0,
             "#0d0887"
            ],
            [
             0.1111111111111111,
             "#46039f"
            ],
            [
             0.2222222222222222,
             "#7201a8"
            ],
            [
             0.3333333333333333,
             "#9c179e"
            ],
            [
             0.4444444444444444,
             "#bd3786"
            ],
            [
             0.5555555555555556,
             "#d8576b"
            ],
            [
             0.6666666666666666,
             "#ed7953"
            ],
            [
             0.7777777777777778,
             "#fb9f3a"
            ],
            [
             0.8888888888888888,
             "#fdca26"
            ],
            [
             1,
             "#f0f921"
            ]
           ],
           "sequentialminus": [
            [
             0,
             "#0d0887"
            ],
            [
             0.1111111111111111,
             "#46039f"
            ],
            [
             0.2222222222222222,
             "#7201a8"
            ],
            [
             0.3333333333333333,
             "#9c179e"
            ],
            [
             0.4444444444444444,
             "#bd3786"
            ],
            [
             0.5555555555555556,
             "#d8576b"
            ],
            [
             0.6666666666666666,
             "#ed7953"
            ],
            [
             0.7777777777777778,
             "#fb9f3a"
            ],
            [
             0.8888888888888888,
             "#fdca26"
            ],
            [
             1,
             "#f0f921"
            ]
           ]
          },
          "colorway": [
           "#636efa",
           "#EF553B",
           "#00cc96",
           "#ab63fa",
           "#FFA15A",
           "#19d3f3",
           "#FF6692",
           "#B6E880",
           "#FF97FF",
           "#FECB52"
          ],
          "font": {
           "color": "#2a3f5f"
          },
          "geo": {
           "bgcolor": "white",
           "lakecolor": "white",
           "landcolor": "#E5ECF6",
           "showlakes": true,
           "showland": true,
           "subunitcolor": "white"
          },
          "hoverlabel": {
           "align": "left"
          },
          "hovermode": "closest",
          "mapbox": {
           "style": "light"
          },
          "paper_bgcolor": "white",
          "plot_bgcolor": "#E5ECF6",
          "polar": {
           "angularaxis": {
            "gridcolor": "white",
            "linecolor": "white",
            "ticks": ""
           },
           "bgcolor": "#E5ECF6",
           "radialaxis": {
            "gridcolor": "white",
            "linecolor": "white",
            "ticks": ""
           }
          },
          "scene": {
           "xaxis": {
            "backgroundcolor": "#E5ECF6",
            "gridcolor": "white",
            "gridwidth": 2,
            "linecolor": "white",
            "showbackground": true,
            "ticks": "",
            "zerolinecolor": "white"
           },
           "yaxis": {
            "backgroundcolor": "#E5ECF6",
            "gridcolor": "white",
            "gridwidth": 2,
            "linecolor": "white",
            "showbackground": true,
            "ticks": "",
            "zerolinecolor": "white"
           },
           "zaxis": {
            "backgroundcolor": "#E5ECF6",
            "gridcolor": "white",
            "gridwidth": 2,
            "linecolor": "white",
            "showbackground": true,
            "ticks": "",
            "zerolinecolor": "white"
           }
          },
          "shapedefaults": {
           "line": {
            "color": "#2a3f5f"
           }
          },
          "ternary": {
           "aaxis": {
            "gridcolor": "white",
            "linecolor": "white",
            "ticks": ""
           },
           "baxis": {
            "gridcolor": "white",
            "linecolor": "white",
            "ticks": ""
           },
           "bgcolor": "#E5ECF6",
           "caxis": {
            "gridcolor": "white",
            "linecolor": "white",
            "ticks": ""
           }
          },
          "title": {
           "x": 0.05
          },
          "xaxis": {
           "automargin": true,
           "gridcolor": "white",
           "linecolor": "white",
           "ticks": "",
           "title": {
            "standoff": 15
           },
           "zerolinecolor": "white",
           "zerolinewidth": 2
          },
          "yaxis": {
           "automargin": true,
           "gridcolor": "white",
           "linecolor": "white",
           "ticks": "",
           "title": {
            "standoff": 15
           },
           "zerolinecolor": "white",
           "zerolinewidth": 2
          }
         }
        },
        "xaxis": {
         "anchor": "y",
         "domain": [
          0,
          1
         ]
        },
        "xaxis2": {
         "anchor": "y2",
         "domain": [
          0,
          1
         ]
        },
        "yaxis": {
         "anchor": "x",
         "domain": [
          0.575,
          1
         ]
        },
        "yaxis2": {
         "anchor": "x2",
         "domain": [
          0,
          0.425
         ]
        }
       }
      }
     },
     "metadata": {},
     "output_type": "display_data"
    }
   ],
   "source": [
    "fig = make_subplots(rows=2, cols=1)\n",
    "\n",
    "tr1=go.Box(x=data['RH'],name='RH Box Plot',boxmean=True)\n",
    "tr2=go.Histogram(x=data['RH'],name='RH Histogram')\n",
    "\n",
    "fig.add_trace(tr1,row=1,col=1)\n",
    "fig.add_trace(tr2,row=2,col=1)\n",
    "\n",
    "fig.show()"
   ]
  },
  {
   "cell_type": "code",
   "execution_count": 12,
   "metadata": {},
   "outputs": [],
   "source": [
    "modified_data = data[data['RH']<=82]"
   ]
  },
  {
   "cell_type": "code",
   "execution_count": 13,
   "metadata": {},
   "outputs": [
    {
     "data": {
      "application/vnd.plotly.v1+json": {
       "config": {
        "plotlyServerURL": "https://plot.ly"
       },
       "data": [
        {
         "boxmean": true,
         "name": "rain Box Plot",
         "type": "box",
         "x": [
          0,
          0,
          0,
          0.2,
          0,
          0,
          0,
          0,
          0,
          0,
          0,
          0,
          0,
          0,
          0,
          0,
          0,
          0,
          0,
          0,
          0,
          0,
          0,
          0,
          0,
          0,
          0,
          0,
          0,
          0,
          0,
          0,
          0,
          0,
          0,
          0,
          0,
          0,
          0,
          0,
          0,
          0,
          0,
          0,
          0,
          0,
          0,
          0,
          0,
          0,
          0,
          0,
          0,
          0,
          0,
          0,
          0,
          0,
          0,
          0,
          0,
          0,
          0,
          0,
          0,
          0,
          0,
          0,
          0,
          0,
          0,
          0,
          0,
          0,
          0,
          0,
          0,
          0,
          0,
          0,
          0,
          0,
          0,
          0,
          0,
          0,
          0,
          0,
          0,
          0,
          0,
          0,
          0,
          0,
          0,
          0,
          0,
          0,
          0,
          0,
          0,
          0,
          0,
          0,
          0,
          0,
          0,
          0,
          0,
          0,
          0,
          0,
          0,
          0,
          0,
          0,
          0,
          0,
          0,
          0,
          0,
          0,
          0,
          0,
          0,
          0,
          0,
          0,
          0,
          0,
          0,
          0,
          0,
          0,
          0,
          0,
          0,
          0,
          0,
          0,
          0,
          0,
          0,
          0,
          0,
          0,
          0,
          0,
          0,
          0,
          0,
          0,
          0,
          0,
          0,
          0,
          0,
          0,
          0,
          0,
          0,
          0,
          0,
          0,
          0,
          0,
          0,
          0,
          0,
          0,
          0,
          0,
          0,
          0,
          0,
          0,
          0,
          0,
          0,
          0,
          0,
          0,
          0,
          0,
          0,
          0,
          0,
          0,
          0,
          0,
          0,
          0,
          0,
          0,
          0,
          0,
          0,
          0,
          0,
          0,
          0,
          0,
          0,
          0,
          0,
          0,
          0,
          0,
          0,
          0,
          0,
          0,
          0,
          0,
          0,
          0,
          0,
          0,
          0,
          0,
          0,
          0,
          0,
          0,
          0,
          0,
          0,
          0,
          0,
          0,
          0,
          0,
          0,
          0,
          0,
          0,
          0,
          0,
          0,
          0,
          0,
          0,
          0,
          1,
          0,
          0,
          0,
          0,
          0,
          0,
          0,
          0,
          0,
          0,
          0,
          0,
          0,
          0,
          0,
          0,
          0,
          0,
          0,
          0,
          0,
          0,
          0,
          0,
          0,
          0,
          0,
          0,
          0,
          0,
          0,
          0,
          0,
          0,
          0,
          0,
          0,
          0,
          0,
          0,
          0,
          0,
          0.2,
          0,
          0,
          0,
          0,
          0,
          0,
          0,
          0,
          0,
          0,
          0,
          0,
          0,
          0,
          0,
          0,
          0,
          0,
          0,
          0,
          0,
          0,
          0,
          0,
          0,
          0,
          0,
          0,
          0,
          0,
          0,
          0,
          0,
          0,
          0,
          0,
          0,
          0,
          0,
          0,
          0,
          0,
          0,
          0,
          0,
          0,
          0,
          0,
          0,
          0,
          0,
          0,
          0,
          0,
          0,
          0,
          0,
          0,
          0,
          0,
          0,
          0,
          0,
          0,
          0,
          0,
          0,
          0,
          0,
          0,
          0,
          0,
          0,
          0,
          0,
          0,
          0,
          0,
          0,
          0,
          0,
          0,
          0,
          0,
          0,
          0,
          0,
          0,
          0,
          0,
          0,
          0,
          0,
          0,
          0,
          0,
          0,
          0,
          0,
          0,
          0,
          0,
          0,
          0,
          0,
          0,
          0,
          0,
          0,
          0,
          0,
          0,
          0,
          0,
          0,
          0,
          0,
          0,
          0,
          0,
          0,
          0,
          0,
          0,
          0,
          0,
          0,
          0,
          0,
          0,
          0,
          0,
          0,
          0,
          0,
          0,
          0,
          0,
          0,
          0,
          0,
          0,
          0,
          0,
          0,
          0,
          0,
          0,
          0,
          0,
          0,
          0,
          0,
          0,
          0,
          0,
          0,
          0,
          0,
          0,
          0,
          0,
          0,
          0,
          0,
          0,
          0,
          0,
          0,
          0,
          0,
          0,
          0,
          0,
          0,
          0,
          0,
          0,
          0,
          0,
          0,
          0,
          0,
          0,
          0,
          0,
          0,
          0,
          0,
          0,
          0,
          0,
          0,
          0,
          0,
          0,
          0,
          0,
          0,
          0,
          0,
          0,
          0,
          0,
          0,
          0,
          0,
          0,
          0,
          0,
          0,
          0,
          6.4,
          0.8,
          0.8,
          0.4,
          0,
          0,
          0,
          0,
          0,
          0,
          1.4,
          0,
          0,
          0,
          0,
          0,
          0,
          0
         ],
         "xaxis": "x",
         "yaxis": "y"
        },
        {
         "name": "rain Histogram",
         "type": "histogram",
         "x": [
          0,
          0,
          0,
          0.2,
          0,
          0,
          0,
          0,
          0,
          0,
          0,
          0,
          0,
          0,
          0,
          0,
          0,
          0,
          0,
          0,
          0,
          0,
          0,
          0,
          0,
          0,
          0,
          0,
          0,
          0,
          0,
          0,
          0,
          0,
          0,
          0,
          0,
          0,
          0,
          0,
          0,
          0,
          0,
          0,
          0,
          0,
          0,
          0,
          0,
          0,
          0,
          0,
          0,
          0,
          0,
          0,
          0,
          0,
          0,
          0,
          0,
          0,
          0,
          0,
          0,
          0,
          0,
          0,
          0,
          0,
          0,
          0,
          0,
          0,
          0,
          0,
          0,
          0,
          0,
          0,
          0,
          0,
          0,
          0,
          0,
          0,
          0,
          0,
          0,
          0,
          0,
          0,
          0,
          0,
          0,
          0,
          0,
          0,
          0,
          0,
          0,
          0,
          0,
          0,
          0,
          0,
          0,
          0,
          0,
          0,
          0,
          0,
          0,
          0,
          0,
          0,
          0,
          0,
          0,
          0,
          0,
          0,
          0,
          0,
          0,
          0,
          0,
          0,
          0,
          0,
          0,
          0,
          0,
          0,
          0,
          0,
          0,
          0,
          0,
          0,
          0,
          0,
          0,
          0,
          0,
          0,
          0,
          0,
          0,
          0,
          0,
          0,
          0,
          0,
          0,
          0,
          0,
          0,
          0,
          0,
          0,
          0,
          0,
          0,
          0,
          0,
          0,
          0,
          0,
          0,
          0,
          0,
          0,
          0,
          0,
          0,
          0,
          0,
          0,
          0,
          0,
          0,
          0,
          0,
          0,
          0,
          0,
          0,
          0,
          0,
          0,
          0,
          0,
          0,
          0,
          0,
          0,
          0,
          0,
          0,
          0,
          0,
          0,
          0,
          0,
          0,
          0,
          0,
          0,
          0,
          0,
          0,
          0,
          0,
          0,
          0,
          0,
          0,
          0,
          0,
          0,
          0,
          0,
          0,
          0,
          0,
          0,
          0,
          0,
          0,
          0,
          0,
          0,
          0,
          0,
          0,
          0,
          0,
          0,
          0,
          0,
          0,
          0,
          1,
          0,
          0,
          0,
          0,
          0,
          0,
          0,
          0,
          0,
          0,
          0,
          0,
          0,
          0,
          0,
          0,
          0,
          0,
          0,
          0,
          0,
          0,
          0,
          0,
          0,
          0,
          0,
          0,
          0,
          0,
          0,
          0,
          0,
          0,
          0,
          0,
          0,
          0,
          0,
          0,
          0,
          0,
          0.2,
          0,
          0,
          0,
          0,
          0,
          0,
          0,
          0,
          0,
          0,
          0,
          0,
          0,
          0,
          0,
          0,
          0,
          0,
          0,
          0,
          0,
          0,
          0,
          0,
          0,
          0,
          0,
          0,
          0,
          0,
          0,
          0,
          0,
          0,
          0,
          0,
          0,
          0,
          0,
          0,
          0,
          0,
          0,
          0,
          0,
          0,
          0,
          0,
          0,
          0,
          0,
          0,
          0,
          0,
          0,
          0,
          0,
          0,
          0,
          0,
          0,
          0,
          0,
          0,
          0,
          0,
          0,
          0,
          0,
          0,
          0,
          0,
          0,
          0,
          0,
          0,
          0,
          0,
          0,
          0,
          0,
          0,
          0,
          0,
          0,
          0,
          0,
          0,
          0,
          0,
          0,
          0,
          0,
          0,
          0,
          0,
          0,
          0,
          0,
          0,
          0,
          0,
          0,
          0,
          0,
          0,
          0,
          0,
          0,
          0,
          0,
          0,
          0,
          0,
          0,
          0,
          0,
          0,
          0,
          0,
          0,
          0,
          0,
          0,
          0,
          0,
          0,
          0,
          0,
          0,
          0,
          0,
          0,
          0,
          0,
          0,
          0,
          0,
          0,
          0,
          0,
          0,
          0,
          0,
          0,
          0,
          0,
          0,
          0,
          0,
          0,
          0,
          0,
          0,
          0,
          0,
          0,
          0,
          0,
          0,
          0,
          0,
          0,
          0,
          0,
          0,
          0,
          0,
          0,
          0,
          0,
          0,
          0,
          0,
          0,
          0,
          0,
          0,
          0,
          0,
          0,
          0,
          0,
          0,
          0,
          0,
          0,
          0,
          0,
          0,
          0,
          0,
          0,
          0,
          0,
          0,
          0,
          0,
          0,
          0,
          0,
          0,
          0,
          0,
          0,
          0,
          0,
          0,
          0,
          0,
          0,
          0,
          6.4,
          0.8,
          0.8,
          0.4,
          0,
          0,
          0,
          0,
          0,
          0,
          1.4,
          0,
          0,
          0,
          0,
          0,
          0,
          0
         ],
         "xaxis": "x2",
         "yaxis": "y2"
        }
       ],
       "layout": {
        "template": {
         "data": {
          "bar": [
           {
            "error_x": {
             "color": "#2a3f5f"
            },
            "error_y": {
             "color": "#2a3f5f"
            },
            "marker": {
             "line": {
              "color": "#E5ECF6",
              "width": 0.5
             },
             "pattern": {
              "fillmode": "overlay",
              "size": 10,
              "solidity": 0.2
             }
            },
            "type": "bar"
           }
          ],
          "barpolar": [
           {
            "marker": {
             "line": {
              "color": "#E5ECF6",
              "width": 0.5
             },
             "pattern": {
              "fillmode": "overlay",
              "size": 10,
              "solidity": 0.2
             }
            },
            "type": "barpolar"
           }
          ],
          "carpet": [
           {
            "aaxis": {
             "endlinecolor": "#2a3f5f",
             "gridcolor": "white",
             "linecolor": "white",
             "minorgridcolor": "white",
             "startlinecolor": "#2a3f5f"
            },
            "baxis": {
             "endlinecolor": "#2a3f5f",
             "gridcolor": "white",
             "linecolor": "white",
             "minorgridcolor": "white",
             "startlinecolor": "#2a3f5f"
            },
            "type": "carpet"
           }
          ],
          "choropleth": [
           {
            "colorbar": {
             "outlinewidth": 0,
             "ticks": ""
            },
            "type": "choropleth"
           }
          ],
          "contour": [
           {
            "colorbar": {
             "outlinewidth": 0,
             "ticks": ""
            },
            "colorscale": [
             [
              0,
              "#0d0887"
             ],
             [
              0.1111111111111111,
              "#46039f"
             ],
             [
              0.2222222222222222,
              "#7201a8"
             ],
             [
              0.3333333333333333,
              "#9c179e"
             ],
             [
              0.4444444444444444,
              "#bd3786"
             ],
             [
              0.5555555555555556,
              "#d8576b"
             ],
             [
              0.6666666666666666,
              "#ed7953"
             ],
             [
              0.7777777777777778,
              "#fb9f3a"
             ],
             [
              0.8888888888888888,
              "#fdca26"
             ],
             [
              1,
              "#f0f921"
             ]
            ],
            "type": "contour"
           }
          ],
          "contourcarpet": [
           {
            "colorbar": {
             "outlinewidth": 0,
             "ticks": ""
            },
            "type": "contourcarpet"
           }
          ],
          "heatmap": [
           {
            "colorbar": {
             "outlinewidth": 0,
             "ticks": ""
            },
            "colorscale": [
             [
              0,
              "#0d0887"
             ],
             [
              0.1111111111111111,
              "#46039f"
             ],
             [
              0.2222222222222222,
              "#7201a8"
             ],
             [
              0.3333333333333333,
              "#9c179e"
             ],
             [
              0.4444444444444444,
              "#bd3786"
             ],
             [
              0.5555555555555556,
              "#d8576b"
             ],
             [
              0.6666666666666666,
              "#ed7953"
             ],
             [
              0.7777777777777778,
              "#fb9f3a"
             ],
             [
              0.8888888888888888,
              "#fdca26"
             ],
             [
              1,
              "#f0f921"
             ]
            ],
            "type": "heatmap"
           }
          ],
          "heatmapgl": [
           {
            "colorbar": {
             "outlinewidth": 0,
             "ticks": ""
            },
            "colorscale": [
             [
              0,
              "#0d0887"
             ],
             [
              0.1111111111111111,
              "#46039f"
             ],
             [
              0.2222222222222222,
              "#7201a8"
             ],
             [
              0.3333333333333333,
              "#9c179e"
             ],
             [
              0.4444444444444444,
              "#bd3786"
             ],
             [
              0.5555555555555556,
              "#d8576b"
             ],
             [
              0.6666666666666666,
              "#ed7953"
             ],
             [
              0.7777777777777778,
              "#fb9f3a"
             ],
             [
              0.8888888888888888,
              "#fdca26"
             ],
             [
              1,
              "#f0f921"
             ]
            ],
            "type": "heatmapgl"
           }
          ],
          "histogram": [
           {
            "marker": {
             "pattern": {
              "fillmode": "overlay",
              "size": 10,
              "solidity": 0.2
             }
            },
            "type": "histogram"
           }
          ],
          "histogram2d": [
           {
            "colorbar": {
             "outlinewidth": 0,
             "ticks": ""
            },
            "colorscale": [
             [
              0,
              "#0d0887"
             ],
             [
              0.1111111111111111,
              "#46039f"
             ],
             [
              0.2222222222222222,
              "#7201a8"
             ],
             [
              0.3333333333333333,
              "#9c179e"
             ],
             [
              0.4444444444444444,
              "#bd3786"
             ],
             [
              0.5555555555555556,
              "#d8576b"
             ],
             [
              0.6666666666666666,
              "#ed7953"
             ],
             [
              0.7777777777777778,
              "#fb9f3a"
             ],
             [
              0.8888888888888888,
              "#fdca26"
             ],
             [
              1,
              "#f0f921"
             ]
            ],
            "type": "histogram2d"
           }
          ],
          "histogram2dcontour": [
           {
            "colorbar": {
             "outlinewidth": 0,
             "ticks": ""
            },
            "colorscale": [
             [
              0,
              "#0d0887"
             ],
             [
              0.1111111111111111,
              "#46039f"
             ],
             [
              0.2222222222222222,
              "#7201a8"
             ],
             [
              0.3333333333333333,
              "#9c179e"
             ],
             [
              0.4444444444444444,
              "#bd3786"
             ],
             [
              0.5555555555555556,
              "#d8576b"
             ],
             [
              0.6666666666666666,
              "#ed7953"
             ],
             [
              0.7777777777777778,
              "#fb9f3a"
             ],
             [
              0.8888888888888888,
              "#fdca26"
             ],
             [
              1,
              "#f0f921"
             ]
            ],
            "type": "histogram2dcontour"
           }
          ],
          "mesh3d": [
           {
            "colorbar": {
             "outlinewidth": 0,
             "ticks": ""
            },
            "type": "mesh3d"
           }
          ],
          "parcoords": [
           {
            "line": {
             "colorbar": {
              "outlinewidth": 0,
              "ticks": ""
             }
            },
            "type": "parcoords"
           }
          ],
          "pie": [
           {
            "automargin": true,
            "type": "pie"
           }
          ],
          "scatter": [
           {
            "fillpattern": {
             "fillmode": "overlay",
             "size": 10,
             "solidity": 0.2
            },
            "type": "scatter"
           }
          ],
          "scatter3d": [
           {
            "line": {
             "colorbar": {
              "outlinewidth": 0,
              "ticks": ""
             }
            },
            "marker": {
             "colorbar": {
              "outlinewidth": 0,
              "ticks": ""
             }
            },
            "type": "scatter3d"
           }
          ],
          "scattercarpet": [
           {
            "marker": {
             "colorbar": {
              "outlinewidth": 0,
              "ticks": ""
             }
            },
            "type": "scattercarpet"
           }
          ],
          "scattergeo": [
           {
            "marker": {
             "colorbar": {
              "outlinewidth": 0,
              "ticks": ""
             }
            },
            "type": "scattergeo"
           }
          ],
          "scattergl": [
           {
            "marker": {
             "colorbar": {
              "outlinewidth": 0,
              "ticks": ""
             }
            },
            "type": "scattergl"
           }
          ],
          "scattermapbox": [
           {
            "marker": {
             "colorbar": {
              "outlinewidth": 0,
              "ticks": ""
             }
            },
            "type": "scattermapbox"
           }
          ],
          "scatterpolar": [
           {
            "marker": {
             "colorbar": {
              "outlinewidth": 0,
              "ticks": ""
             }
            },
            "type": "scatterpolar"
           }
          ],
          "scatterpolargl": [
           {
            "marker": {
             "colorbar": {
              "outlinewidth": 0,
              "ticks": ""
             }
            },
            "type": "scatterpolargl"
           }
          ],
          "scatterternary": [
           {
            "marker": {
             "colorbar": {
              "outlinewidth": 0,
              "ticks": ""
             }
            },
            "type": "scatterternary"
           }
          ],
          "surface": [
           {
            "colorbar": {
             "outlinewidth": 0,
             "ticks": ""
            },
            "colorscale": [
             [
              0,
              "#0d0887"
             ],
             [
              0.1111111111111111,
              "#46039f"
             ],
             [
              0.2222222222222222,
              "#7201a8"
             ],
             [
              0.3333333333333333,
              "#9c179e"
             ],
             [
              0.4444444444444444,
              "#bd3786"
             ],
             [
              0.5555555555555556,
              "#d8576b"
             ],
             [
              0.6666666666666666,
              "#ed7953"
             ],
             [
              0.7777777777777778,
              "#fb9f3a"
             ],
             [
              0.8888888888888888,
              "#fdca26"
             ],
             [
              1,
              "#f0f921"
             ]
            ],
            "type": "surface"
           }
          ],
          "table": [
           {
            "cells": {
             "fill": {
              "color": "#EBF0F8"
             },
             "line": {
              "color": "white"
             }
            },
            "header": {
             "fill": {
              "color": "#C8D4E3"
             },
             "line": {
              "color": "white"
             }
            },
            "type": "table"
           }
          ]
         },
         "layout": {
          "annotationdefaults": {
           "arrowcolor": "#2a3f5f",
           "arrowhead": 0,
           "arrowwidth": 1
          },
          "autotypenumbers": "strict",
          "coloraxis": {
           "colorbar": {
            "outlinewidth": 0,
            "ticks": ""
           }
          },
          "colorscale": {
           "diverging": [
            [
             0,
             "#8e0152"
            ],
            [
             0.1,
             "#c51b7d"
            ],
            [
             0.2,
             "#de77ae"
            ],
            [
             0.3,
             "#f1b6da"
            ],
            [
             0.4,
             "#fde0ef"
            ],
            [
             0.5,
             "#f7f7f7"
            ],
            [
             0.6,
             "#e6f5d0"
            ],
            [
             0.7,
             "#b8e186"
            ],
            [
             0.8,
             "#7fbc41"
            ],
            [
             0.9,
             "#4d9221"
            ],
            [
             1,
             "#276419"
            ]
           ],
           "sequential": [
            [
             0,
             "#0d0887"
            ],
            [
             0.1111111111111111,
             "#46039f"
            ],
            [
             0.2222222222222222,
             "#7201a8"
            ],
            [
             0.3333333333333333,
             "#9c179e"
            ],
            [
             0.4444444444444444,
             "#bd3786"
            ],
            [
             0.5555555555555556,
             "#d8576b"
            ],
            [
             0.6666666666666666,
             "#ed7953"
            ],
            [
             0.7777777777777778,
             "#fb9f3a"
            ],
            [
             0.8888888888888888,
             "#fdca26"
            ],
            [
             1,
             "#f0f921"
            ]
           ],
           "sequentialminus": [
            [
             0,
             "#0d0887"
            ],
            [
             0.1111111111111111,
             "#46039f"
            ],
            [
             0.2222222222222222,
             "#7201a8"
            ],
            [
             0.3333333333333333,
             "#9c179e"
            ],
            [
             0.4444444444444444,
             "#bd3786"
            ],
            [
             0.5555555555555556,
             "#d8576b"
            ],
            [
             0.6666666666666666,
             "#ed7953"
            ],
            [
             0.7777777777777778,
             "#fb9f3a"
            ],
            [
             0.8888888888888888,
             "#fdca26"
            ],
            [
             1,
             "#f0f921"
            ]
           ]
          },
          "colorway": [
           "#636efa",
           "#EF553B",
           "#00cc96",
           "#ab63fa",
           "#FFA15A",
           "#19d3f3",
           "#FF6692",
           "#B6E880",
           "#FF97FF",
           "#FECB52"
          ],
          "font": {
           "color": "#2a3f5f"
          },
          "geo": {
           "bgcolor": "white",
           "lakecolor": "white",
           "landcolor": "#E5ECF6",
           "showlakes": true,
           "showland": true,
           "subunitcolor": "white"
          },
          "hoverlabel": {
           "align": "left"
          },
          "hovermode": "closest",
          "mapbox": {
           "style": "light"
          },
          "paper_bgcolor": "white",
          "plot_bgcolor": "#E5ECF6",
          "polar": {
           "angularaxis": {
            "gridcolor": "white",
            "linecolor": "white",
            "ticks": ""
           },
           "bgcolor": "#E5ECF6",
           "radialaxis": {
            "gridcolor": "white",
            "linecolor": "white",
            "ticks": ""
           }
          },
          "scene": {
           "xaxis": {
            "backgroundcolor": "#E5ECF6",
            "gridcolor": "white",
            "gridwidth": 2,
            "linecolor": "white",
            "showbackground": true,
            "ticks": "",
            "zerolinecolor": "white"
           },
           "yaxis": {
            "backgroundcolor": "#E5ECF6",
            "gridcolor": "white",
            "gridwidth": 2,
            "linecolor": "white",
            "showbackground": true,
            "ticks": "",
            "zerolinecolor": "white"
           },
           "zaxis": {
            "backgroundcolor": "#E5ECF6",
            "gridcolor": "white",
            "gridwidth": 2,
            "linecolor": "white",
            "showbackground": true,
            "ticks": "",
            "zerolinecolor": "white"
           }
          },
          "shapedefaults": {
           "line": {
            "color": "#2a3f5f"
           }
          },
          "ternary": {
           "aaxis": {
            "gridcolor": "white",
            "linecolor": "white",
            "ticks": ""
           },
           "baxis": {
            "gridcolor": "white",
            "linecolor": "white",
            "ticks": ""
           },
           "bgcolor": "#E5ECF6",
           "caxis": {
            "gridcolor": "white",
            "linecolor": "white",
            "ticks": ""
           }
          },
          "title": {
           "x": 0.05
          },
          "xaxis": {
           "automargin": true,
           "gridcolor": "white",
           "linecolor": "white",
           "ticks": "",
           "title": {
            "standoff": 15
           },
           "zerolinecolor": "white",
           "zerolinewidth": 2
          },
          "yaxis": {
           "automargin": true,
           "gridcolor": "white",
           "linecolor": "white",
           "ticks": "",
           "title": {
            "standoff": 15
           },
           "zerolinecolor": "white",
           "zerolinewidth": 2
          }
         }
        },
        "xaxis": {
         "anchor": "y",
         "domain": [
          0,
          1
         ]
        },
        "xaxis2": {
         "anchor": "y2",
         "domain": [
          0,
          1
         ]
        },
        "yaxis": {
         "anchor": "x",
         "domain": [
          0.575,
          1
         ]
        },
        "yaxis2": {
         "anchor": "x2",
         "domain": [
          0,
          0.425
         ]
        }
       }
      }
     },
     "metadata": {},
     "output_type": "display_data"
    }
   ],
   "source": [
    "fig = make_subplots(rows=2, cols=1)\n",
    "\n",
    "tr1=go.Box(x=data['rain'],name='rain Box Plot',boxmean=True)\n",
    "tr2=go.Histogram(x=data['rain'],name='rain Histogram')\n",
    "\n",
    "fig.add_trace(tr1,row=1,col=1)\n",
    "fig.add_trace(tr2,row=2,col=1)\n",
    "\n",
    "fig.show()"
   ]
  },
  {
   "cell_type": "code",
   "execution_count": 14,
   "metadata": {},
   "outputs": [],
   "source": [
    "modified_data = data[data['rain']<6]"
   ]
  },
  {
   "cell_type": "code",
   "execution_count": 15,
   "metadata": {},
   "outputs": [
    {
     "data": {
      "application/vnd.plotly.v1+json": {
       "config": {
        "plotlyServerURL": "https://plot.ly"
       },
       "data": [
        {
         "boxmean": true,
         "name": "wind Box Plot",
         "type": "box",
         "x": [
          6.7,
          0.9,
          1.3,
          4,
          1.8,
          5.4,
          3.1,
          2.2,
          5.4,
          4,
          7.2,
          4,
          6.7,
          2.2,
          4.5,
          5.4,
          5.4,
          4.9,
          4,
          4.5,
          2.7,
          2.7,
          4.5,
          5.8,
          5.8,
          5.4,
          5.8,
          1.3,
          2.7,
          3.6,
          3.6,
          7.6,
          1.8,
          3.6,
          2.7,
          4.5,
          4.5,
          5.4,
          4,
          2.7,
          3.1,
          6.7,
          5.4,
          2.7,
          4.9,
          4,
          3.6,
          3.1,
          1.8,
          5.8,
          1.3,
          2.2,
          4.9,
          4.9,
          3.6,
          2.2,
          4.9,
          2.7,
          5.4,
          0.9,
          5.8,
          6.3,
          4.9,
          2.7,
          3.1,
          4.5,
          4.5,
          5.4,
          6.3,
          4.5,
          7.6,
          3.6,
          6.3,
          4.5,
          1.3,
          3.1,
          3.1,
          3.1,
          2.7,
          6.7,
          6.3,
          2.2,
          4.5,
          0.9,
          3.6,
          0.9,
          2.2,
          2.2,
          3.6,
          4.9,
          5.8,
          5.4,
          6.3,
          4.9,
          2.7,
          1.3,
          1.8,
          5.4,
          4.5,
          5.4,
          5.4,
          5.4,
          4,
          4.5,
          3.1,
          6.3,
          3.1,
          3.1,
          3.1,
          5.4,
          5.8,
          4.5,
          3.6,
          2.7,
          7.6,
          6.3,
          6.3,
          4.9,
          4,
          3.1,
          2.2,
          5.4,
          5.4,
          3.1,
          5.4,
          5.4,
          2.2,
          3.1,
          3.6,
          0.9,
          2.7,
          3.1,
          4.9,
          3.1,
          2.7,
          5.8,
          1.3,
          3.1,
          2.7,
          2.2,
          1.8,
          4.5,
          8.9,
          5.4,
          5.4,
          4,
          5.4,
          3.6,
          6.7,
          4.5,
          5.4,
          2.2,
          1.8,
          4.9,
          2.7,
          1.3,
          2.2,
          3.6,
          4,
          5.8,
          3.1,
          4,
          8.5,
          1.8,
          2.2,
          4.5,
          0.9,
          4.5,
          9.4,
          2.2,
          1.8,
          4,
          5.4,
          2.2,
          1.8,
          4.9,
          5.8,
          2.7,
          2.2,
          5.4,
          6.7,
          4,
          2.2,
          4.5,
          4.9,
          3.1,
          5.8,
          2.2,
          0.9,
          4,
          4,
          2.7,
          4.5,
          4,
          4.5,
          5.4,
          5.8,
          0.9,
          6.3,
          3.6,
          2.2,
          3.6,
          2.2,
          2.7,
          4,
          1.8,
          7.2,
          2.2,
          6.3,
          4.9,
          3.1,
          5.8,
          4.9,
          5.8,
          4.9,
          4.9,
          1.3,
          6.3,
          1.3,
          3.1,
          3.1,
          3.6,
          5.8,
          3.6,
          4.5,
          4.9,
          4,
          4.5,
          3.1,
          4,
          4.5,
          3.1,
          2.7,
          3.1,
          3.1,
          5.8,
          1.8,
          2.2,
          4,
          1.8,
          2.7,
          3.1,
          4,
          7.6,
          7.6,
          6.3,
          5.4,
          2.2,
          2.7,
          0.4,
          3.1,
          3.1,
          3.6,
          2.7,
          3.1,
          4,
          2.2,
          2.7,
          0.9,
          1.8,
          4,
          7.6,
          3.1,
          3.6,
          3.1,
          7.6,
          4,
          3.1,
          3.1,
          2.7,
          3.1,
          4.5,
          4,
          8.5,
          8,
          4.9,
          8.5,
          8.5,
          8.5,
          8.5,
          4.9,
          8.5,
          4,
          3.1,
          8,
          6.3,
          7.6,
          2.7,
          1.8,
          1.8,
          1.8,
          0.9,
          1.3,
          5.4,
          3.6,
          1.3,
          1.8,
          2.2,
          4.9,
          2.7,
          4.9,
          5.4,
          4.5,
          4.5,
          4.9,
          2.2,
          5.4,
          3.6,
          1.8,
          2.2,
          2.7,
          1.8,
          6.3,
          4.9,
          1.8,
          2.7,
          5.8,
          4.9,
          2.2,
          6.3,
          7.2,
          4,
          4,
          2.7,
          1.8,
          3.1,
          3.1,
          2.2,
          1.8,
          4,
          3.1,
          4.5,
          2.2,
          3.1,
          5.4,
          1.8,
          2.2,
          2.2,
          2.2,
          1.8,
          2.2,
          2.2,
          1.8,
          4.5,
          4.9,
          3.1,
          2.2,
          3.6,
          4.5,
          3.6,
          3.6,
          6.3,
          3.6,
          2.7,
          2.2,
          4.9,
          4.9,
          3.6,
          2.7,
          2.2,
          2.2,
          4,
          3.1,
          2.2,
          2.7,
          3.1,
          5.4,
          3.6,
          4.9,
          7.6,
          7.6,
          4,
          0.9,
          2.7,
          4,
          4.9,
          2.2,
          2.2,
          5.8,
          0.9,
          7.2,
          2.7,
          1.8,
          2.7,
          4.5,
          2.2,
          5.4,
          5.4,
          3.1,
          3.1,
          6.3,
          2.7,
          4,
          7.6,
          1.8,
          1.8,
          4.9,
          3.6,
          3.1,
          4.5,
          4.5,
          4,
          4,
          3.6,
          2.2,
          2.2,
          4.9,
          4,
          3.1,
          5.4,
          2.7,
          9.4,
          4.5,
          3.6,
          4,
          4.9,
          3.1,
          5.8,
          5.4,
          4,
          4.5,
          4.5,
          3.6,
          4,
          3.6,
          2.2,
          2.2,
          2.2,
          5.8,
          4,
          3.6,
          4,
          6.7,
          4.9,
          3.6,
          1.8,
          1.3,
          2.7,
          4,
          2.2,
          3.6,
          1.8,
          3.1,
          8,
          3.6,
          4.5,
          2.2,
          8,
          4,
          4.9,
          5.4,
          4.9,
          4,
          3.1,
          3.1,
          2.7,
          2.7,
          4,
          4.9,
          8,
          4.9,
          4.9,
          7.6,
          6.3,
          5.4,
          0.9,
          5.8,
          5.4,
          3.6,
          9.4,
          5.8,
          4,
          4,
          3.1,
          2.7,
          9.4,
          1.3,
          4,
          4.5,
          4.9,
          4.5,
          4.9,
          5.8,
          5.4,
          4,
          3.6,
          6.3,
          3.6,
          7.6,
          1.3,
          4,
          4.5,
          2.2,
          4.5,
          4.9,
          2.2,
          3.1,
          2.2,
          2.7,
          4.9,
          4.9,
          4.9,
          4.9,
          4.9,
          4.9,
          1.8,
          8.5,
          3.6,
          3.6,
          7.6,
          5.4,
          2.7,
          2.7,
          5.8,
          6.7,
          4,
          4.5
         ],
         "xaxis": "x",
         "yaxis": "y"
        },
        {
         "name": "wind Histogram",
         "type": "histogram",
         "x": [
          6.7,
          0.9,
          1.3,
          4,
          1.8,
          5.4,
          3.1,
          2.2,
          5.4,
          4,
          7.2,
          4,
          6.7,
          2.2,
          4.5,
          5.4,
          5.4,
          4.9,
          4,
          4.5,
          2.7,
          2.7,
          4.5,
          5.8,
          5.8,
          5.4,
          5.8,
          1.3,
          2.7,
          3.6,
          3.6,
          7.6,
          1.8,
          3.6,
          2.7,
          4.5,
          4.5,
          5.4,
          4,
          2.7,
          3.1,
          6.7,
          5.4,
          2.7,
          4.9,
          4,
          3.6,
          3.1,
          1.8,
          5.8,
          1.3,
          2.2,
          4.9,
          4.9,
          3.6,
          2.2,
          4.9,
          2.7,
          5.4,
          0.9,
          5.8,
          6.3,
          4.9,
          2.7,
          3.1,
          4.5,
          4.5,
          5.4,
          6.3,
          4.5,
          7.6,
          3.6,
          6.3,
          4.5,
          1.3,
          3.1,
          3.1,
          3.1,
          2.7,
          6.7,
          6.3,
          2.2,
          4.5,
          0.9,
          3.6,
          0.9,
          2.2,
          2.2,
          3.6,
          4.9,
          5.8,
          5.4,
          6.3,
          4.9,
          2.7,
          1.3,
          1.8,
          5.4,
          4.5,
          5.4,
          5.4,
          5.4,
          4,
          4.5,
          3.1,
          6.3,
          3.1,
          3.1,
          3.1,
          5.4,
          5.8,
          4.5,
          3.6,
          2.7,
          7.6,
          6.3,
          6.3,
          4.9,
          4,
          3.1,
          2.2,
          5.4,
          5.4,
          3.1,
          5.4,
          5.4,
          2.2,
          3.1,
          3.6,
          0.9,
          2.7,
          3.1,
          4.9,
          3.1,
          2.7,
          5.8,
          1.3,
          3.1,
          2.7,
          2.2,
          1.8,
          4.5,
          8.9,
          5.4,
          5.4,
          4,
          5.4,
          3.6,
          6.7,
          4.5,
          5.4,
          2.2,
          1.8,
          4.9,
          2.7,
          1.3,
          2.2,
          3.6,
          4,
          5.8,
          3.1,
          4,
          8.5,
          1.8,
          2.2,
          4.5,
          0.9,
          4.5,
          9.4,
          2.2,
          1.8,
          4,
          5.4,
          2.2,
          1.8,
          4.9,
          5.8,
          2.7,
          2.2,
          5.4,
          6.7,
          4,
          2.2,
          4.5,
          4.9,
          3.1,
          5.8,
          2.2,
          0.9,
          4,
          4,
          2.7,
          4.5,
          4,
          4.5,
          5.4,
          5.8,
          0.9,
          6.3,
          3.6,
          2.2,
          3.6,
          2.2,
          2.7,
          4,
          1.8,
          7.2,
          2.2,
          6.3,
          4.9,
          3.1,
          5.8,
          4.9,
          5.8,
          4.9,
          4.9,
          1.3,
          6.3,
          1.3,
          3.1,
          3.1,
          3.6,
          5.8,
          3.6,
          4.5,
          4.9,
          4,
          4.5,
          3.1,
          4,
          4.5,
          3.1,
          2.7,
          3.1,
          3.1,
          5.8,
          1.8,
          2.2,
          4,
          1.8,
          2.7,
          3.1,
          4,
          7.6,
          7.6,
          6.3,
          5.4,
          2.2,
          2.7,
          0.4,
          3.1,
          3.1,
          3.6,
          2.7,
          3.1,
          4,
          2.2,
          2.7,
          0.9,
          1.8,
          4,
          7.6,
          3.1,
          3.6,
          3.1,
          7.6,
          4,
          3.1,
          3.1,
          2.7,
          3.1,
          4.5,
          4,
          8.5,
          8,
          4.9,
          8.5,
          8.5,
          8.5,
          8.5,
          4.9,
          8.5,
          4,
          3.1,
          8,
          6.3,
          7.6,
          2.7,
          1.8,
          1.8,
          1.8,
          0.9,
          1.3,
          5.4,
          3.6,
          1.3,
          1.8,
          2.2,
          4.9,
          2.7,
          4.9,
          5.4,
          4.5,
          4.5,
          4.9,
          2.2,
          5.4,
          3.6,
          1.8,
          2.2,
          2.7,
          1.8,
          6.3,
          4.9,
          1.8,
          2.7,
          5.8,
          4.9,
          2.2,
          6.3,
          7.2,
          4,
          4,
          2.7,
          1.8,
          3.1,
          3.1,
          2.2,
          1.8,
          4,
          3.1,
          4.5,
          2.2,
          3.1,
          5.4,
          1.8,
          2.2,
          2.2,
          2.2,
          1.8,
          2.2,
          2.2,
          1.8,
          4.5,
          4.9,
          3.1,
          2.2,
          3.6,
          4.5,
          3.6,
          3.6,
          6.3,
          3.6,
          2.7,
          2.2,
          4.9,
          4.9,
          3.6,
          2.7,
          2.2,
          2.2,
          4,
          3.1,
          2.2,
          2.7,
          3.1,
          5.4,
          3.6,
          4.9,
          7.6,
          7.6,
          4,
          0.9,
          2.7,
          4,
          4.9,
          2.2,
          2.2,
          5.8,
          0.9,
          7.2,
          2.7,
          1.8,
          2.7,
          4.5,
          2.2,
          5.4,
          5.4,
          3.1,
          3.1,
          6.3,
          2.7,
          4,
          7.6,
          1.8,
          1.8,
          4.9,
          3.6,
          3.1,
          4.5,
          4.5,
          4,
          4,
          3.6,
          2.2,
          2.2,
          4.9,
          4,
          3.1,
          5.4,
          2.7,
          9.4,
          4.5,
          3.6,
          4,
          4.9,
          3.1,
          5.8,
          5.4,
          4,
          4.5,
          4.5,
          3.6,
          4,
          3.6,
          2.2,
          2.2,
          2.2,
          5.8,
          4,
          3.6,
          4,
          6.7,
          4.9,
          3.6,
          1.8,
          1.3,
          2.7,
          4,
          2.2,
          3.6,
          1.8,
          3.1,
          8,
          3.6,
          4.5,
          2.2,
          8,
          4,
          4.9,
          5.4,
          4.9,
          4,
          3.1,
          3.1,
          2.7,
          2.7,
          4,
          4.9,
          8,
          4.9,
          4.9,
          7.6,
          6.3,
          5.4,
          0.9,
          5.8,
          5.4,
          3.6,
          9.4,
          5.8,
          4,
          4,
          3.1,
          2.7,
          9.4,
          1.3,
          4,
          4.5,
          4.9,
          4.5,
          4.9,
          5.8,
          5.4,
          4,
          3.6,
          6.3,
          3.6,
          7.6,
          1.3,
          4,
          4.5,
          2.2,
          4.5,
          4.9,
          2.2,
          3.1,
          2.2,
          2.7,
          4.9,
          4.9,
          4.9,
          4.9,
          4.9,
          4.9,
          1.8,
          8.5,
          3.6,
          3.6,
          7.6,
          5.4,
          2.7,
          2.7,
          5.8,
          6.7,
          4,
          4.5
         ],
         "xaxis": "x2",
         "yaxis": "y2"
        }
       ],
       "layout": {
        "template": {
         "data": {
          "bar": [
           {
            "error_x": {
             "color": "#2a3f5f"
            },
            "error_y": {
             "color": "#2a3f5f"
            },
            "marker": {
             "line": {
              "color": "#E5ECF6",
              "width": 0.5
             },
             "pattern": {
              "fillmode": "overlay",
              "size": 10,
              "solidity": 0.2
             }
            },
            "type": "bar"
           }
          ],
          "barpolar": [
           {
            "marker": {
             "line": {
              "color": "#E5ECF6",
              "width": 0.5
             },
             "pattern": {
              "fillmode": "overlay",
              "size": 10,
              "solidity": 0.2
             }
            },
            "type": "barpolar"
           }
          ],
          "carpet": [
           {
            "aaxis": {
             "endlinecolor": "#2a3f5f",
             "gridcolor": "white",
             "linecolor": "white",
             "minorgridcolor": "white",
             "startlinecolor": "#2a3f5f"
            },
            "baxis": {
             "endlinecolor": "#2a3f5f",
             "gridcolor": "white",
             "linecolor": "white",
             "minorgridcolor": "white",
             "startlinecolor": "#2a3f5f"
            },
            "type": "carpet"
           }
          ],
          "choropleth": [
           {
            "colorbar": {
             "outlinewidth": 0,
             "ticks": ""
            },
            "type": "choropleth"
           }
          ],
          "contour": [
           {
            "colorbar": {
             "outlinewidth": 0,
             "ticks": ""
            },
            "colorscale": [
             [
              0,
              "#0d0887"
             ],
             [
              0.1111111111111111,
              "#46039f"
             ],
             [
              0.2222222222222222,
              "#7201a8"
             ],
             [
              0.3333333333333333,
              "#9c179e"
             ],
             [
              0.4444444444444444,
              "#bd3786"
             ],
             [
              0.5555555555555556,
              "#d8576b"
             ],
             [
              0.6666666666666666,
              "#ed7953"
             ],
             [
              0.7777777777777778,
              "#fb9f3a"
             ],
             [
              0.8888888888888888,
              "#fdca26"
             ],
             [
              1,
              "#f0f921"
             ]
            ],
            "type": "contour"
           }
          ],
          "contourcarpet": [
           {
            "colorbar": {
             "outlinewidth": 0,
             "ticks": ""
            },
            "type": "contourcarpet"
           }
          ],
          "heatmap": [
           {
            "colorbar": {
             "outlinewidth": 0,
             "ticks": ""
            },
            "colorscale": [
             [
              0,
              "#0d0887"
             ],
             [
              0.1111111111111111,
              "#46039f"
             ],
             [
              0.2222222222222222,
              "#7201a8"
             ],
             [
              0.3333333333333333,
              "#9c179e"
             ],
             [
              0.4444444444444444,
              "#bd3786"
             ],
             [
              0.5555555555555556,
              "#d8576b"
             ],
             [
              0.6666666666666666,
              "#ed7953"
             ],
             [
              0.7777777777777778,
              "#fb9f3a"
             ],
             [
              0.8888888888888888,
              "#fdca26"
             ],
             [
              1,
              "#f0f921"
             ]
            ],
            "type": "heatmap"
           }
          ],
          "heatmapgl": [
           {
            "colorbar": {
             "outlinewidth": 0,
             "ticks": ""
            },
            "colorscale": [
             [
              0,
              "#0d0887"
             ],
             [
              0.1111111111111111,
              "#46039f"
             ],
             [
              0.2222222222222222,
              "#7201a8"
             ],
             [
              0.3333333333333333,
              "#9c179e"
             ],
             [
              0.4444444444444444,
              "#bd3786"
             ],
             [
              0.5555555555555556,
              "#d8576b"
             ],
             [
              0.6666666666666666,
              "#ed7953"
             ],
             [
              0.7777777777777778,
              "#fb9f3a"
             ],
             [
              0.8888888888888888,
              "#fdca26"
             ],
             [
              1,
              "#f0f921"
             ]
            ],
            "type": "heatmapgl"
           }
          ],
          "histogram": [
           {
            "marker": {
             "pattern": {
              "fillmode": "overlay",
              "size": 10,
              "solidity": 0.2
             }
            },
            "type": "histogram"
           }
          ],
          "histogram2d": [
           {
            "colorbar": {
             "outlinewidth": 0,
             "ticks": ""
            },
            "colorscale": [
             [
              0,
              "#0d0887"
             ],
             [
              0.1111111111111111,
              "#46039f"
             ],
             [
              0.2222222222222222,
              "#7201a8"
             ],
             [
              0.3333333333333333,
              "#9c179e"
             ],
             [
              0.4444444444444444,
              "#bd3786"
             ],
             [
              0.5555555555555556,
              "#d8576b"
             ],
             [
              0.6666666666666666,
              "#ed7953"
             ],
             [
              0.7777777777777778,
              "#fb9f3a"
             ],
             [
              0.8888888888888888,
              "#fdca26"
             ],
             [
              1,
              "#f0f921"
             ]
            ],
            "type": "histogram2d"
           }
          ],
          "histogram2dcontour": [
           {
            "colorbar": {
             "outlinewidth": 0,
             "ticks": ""
            },
            "colorscale": [
             [
              0,
              "#0d0887"
             ],
             [
              0.1111111111111111,
              "#46039f"
             ],
             [
              0.2222222222222222,
              "#7201a8"
             ],
             [
              0.3333333333333333,
              "#9c179e"
             ],
             [
              0.4444444444444444,
              "#bd3786"
             ],
             [
              0.5555555555555556,
              "#d8576b"
             ],
             [
              0.6666666666666666,
              "#ed7953"
             ],
             [
              0.7777777777777778,
              "#fb9f3a"
             ],
             [
              0.8888888888888888,
              "#fdca26"
             ],
             [
              1,
              "#f0f921"
             ]
            ],
            "type": "histogram2dcontour"
           }
          ],
          "mesh3d": [
           {
            "colorbar": {
             "outlinewidth": 0,
             "ticks": ""
            },
            "type": "mesh3d"
           }
          ],
          "parcoords": [
           {
            "line": {
             "colorbar": {
              "outlinewidth": 0,
              "ticks": ""
             }
            },
            "type": "parcoords"
           }
          ],
          "pie": [
           {
            "automargin": true,
            "type": "pie"
           }
          ],
          "scatter": [
           {
            "fillpattern": {
             "fillmode": "overlay",
             "size": 10,
             "solidity": 0.2
            },
            "type": "scatter"
           }
          ],
          "scatter3d": [
           {
            "line": {
             "colorbar": {
              "outlinewidth": 0,
              "ticks": ""
             }
            },
            "marker": {
             "colorbar": {
              "outlinewidth": 0,
              "ticks": ""
             }
            },
            "type": "scatter3d"
           }
          ],
          "scattercarpet": [
           {
            "marker": {
             "colorbar": {
              "outlinewidth": 0,
              "ticks": ""
             }
            },
            "type": "scattercarpet"
           }
          ],
          "scattergeo": [
           {
            "marker": {
             "colorbar": {
              "outlinewidth": 0,
              "ticks": ""
             }
            },
            "type": "scattergeo"
           }
          ],
          "scattergl": [
           {
            "marker": {
             "colorbar": {
              "outlinewidth": 0,
              "ticks": ""
             }
            },
            "type": "scattergl"
           }
          ],
          "scattermapbox": [
           {
            "marker": {
             "colorbar": {
              "outlinewidth": 0,
              "ticks": ""
             }
            },
            "type": "scattermapbox"
           }
          ],
          "scatterpolar": [
           {
            "marker": {
             "colorbar": {
              "outlinewidth": 0,
              "ticks": ""
             }
            },
            "type": "scatterpolar"
           }
          ],
          "scatterpolargl": [
           {
            "marker": {
             "colorbar": {
              "outlinewidth": 0,
              "ticks": ""
             }
            },
            "type": "scatterpolargl"
           }
          ],
          "scatterternary": [
           {
            "marker": {
             "colorbar": {
              "outlinewidth": 0,
              "ticks": ""
             }
            },
            "type": "scatterternary"
           }
          ],
          "surface": [
           {
            "colorbar": {
             "outlinewidth": 0,
             "ticks": ""
            },
            "colorscale": [
             [
              0,
              "#0d0887"
             ],
             [
              0.1111111111111111,
              "#46039f"
             ],
             [
              0.2222222222222222,
              "#7201a8"
             ],
             [
              0.3333333333333333,
              "#9c179e"
             ],
             [
              0.4444444444444444,
              "#bd3786"
             ],
             [
              0.5555555555555556,
              "#d8576b"
             ],
             [
              0.6666666666666666,
              "#ed7953"
             ],
             [
              0.7777777777777778,
              "#fb9f3a"
             ],
             [
              0.8888888888888888,
              "#fdca26"
             ],
             [
              1,
              "#f0f921"
             ]
            ],
            "type": "surface"
           }
          ],
          "table": [
           {
            "cells": {
             "fill": {
              "color": "#EBF0F8"
             },
             "line": {
              "color": "white"
             }
            },
            "header": {
             "fill": {
              "color": "#C8D4E3"
             },
             "line": {
              "color": "white"
             }
            },
            "type": "table"
           }
          ]
         },
         "layout": {
          "annotationdefaults": {
           "arrowcolor": "#2a3f5f",
           "arrowhead": 0,
           "arrowwidth": 1
          },
          "autotypenumbers": "strict",
          "coloraxis": {
           "colorbar": {
            "outlinewidth": 0,
            "ticks": ""
           }
          },
          "colorscale": {
           "diverging": [
            [
             0,
             "#8e0152"
            ],
            [
             0.1,
             "#c51b7d"
            ],
            [
             0.2,
             "#de77ae"
            ],
            [
             0.3,
             "#f1b6da"
            ],
            [
             0.4,
             "#fde0ef"
            ],
            [
             0.5,
             "#f7f7f7"
            ],
            [
             0.6,
             "#e6f5d0"
            ],
            [
             0.7,
             "#b8e186"
            ],
            [
             0.8,
             "#7fbc41"
            ],
            [
             0.9,
             "#4d9221"
            ],
            [
             1,
             "#276419"
            ]
           ],
           "sequential": [
            [
             0,
             "#0d0887"
            ],
            [
             0.1111111111111111,
             "#46039f"
            ],
            [
             0.2222222222222222,
             "#7201a8"
            ],
            [
             0.3333333333333333,
             "#9c179e"
            ],
            [
             0.4444444444444444,
             "#bd3786"
            ],
            [
             0.5555555555555556,
             "#d8576b"
            ],
            [
             0.6666666666666666,
             "#ed7953"
            ],
            [
             0.7777777777777778,
             "#fb9f3a"
            ],
            [
             0.8888888888888888,
             "#fdca26"
            ],
            [
             1,
             "#f0f921"
            ]
           ],
           "sequentialminus": [
            [
             0,
             "#0d0887"
            ],
            [
             0.1111111111111111,
             "#46039f"
            ],
            [
             0.2222222222222222,
             "#7201a8"
            ],
            [
             0.3333333333333333,
             "#9c179e"
            ],
            [
             0.4444444444444444,
             "#bd3786"
            ],
            [
             0.5555555555555556,
             "#d8576b"
            ],
            [
             0.6666666666666666,
             "#ed7953"
            ],
            [
             0.7777777777777778,
             "#fb9f3a"
            ],
            [
             0.8888888888888888,
             "#fdca26"
            ],
            [
             1,
             "#f0f921"
            ]
           ]
          },
          "colorway": [
           "#636efa",
           "#EF553B",
           "#00cc96",
           "#ab63fa",
           "#FFA15A",
           "#19d3f3",
           "#FF6692",
           "#B6E880",
           "#FF97FF",
           "#FECB52"
          ],
          "font": {
           "color": "#2a3f5f"
          },
          "geo": {
           "bgcolor": "white",
           "lakecolor": "white",
           "landcolor": "#E5ECF6",
           "showlakes": true,
           "showland": true,
           "subunitcolor": "white"
          },
          "hoverlabel": {
           "align": "left"
          },
          "hovermode": "closest",
          "mapbox": {
           "style": "light"
          },
          "paper_bgcolor": "white",
          "plot_bgcolor": "#E5ECF6",
          "polar": {
           "angularaxis": {
            "gridcolor": "white",
            "linecolor": "white",
            "ticks": ""
           },
           "bgcolor": "#E5ECF6",
           "radialaxis": {
            "gridcolor": "white",
            "linecolor": "white",
            "ticks": ""
           }
          },
          "scene": {
           "xaxis": {
            "backgroundcolor": "#E5ECF6",
            "gridcolor": "white",
            "gridwidth": 2,
            "linecolor": "white",
            "showbackground": true,
            "ticks": "",
            "zerolinecolor": "white"
           },
           "yaxis": {
            "backgroundcolor": "#E5ECF6",
            "gridcolor": "white",
            "gridwidth": 2,
            "linecolor": "white",
            "showbackground": true,
            "ticks": "",
            "zerolinecolor": "white"
           },
           "zaxis": {
            "backgroundcolor": "#E5ECF6",
            "gridcolor": "white",
            "gridwidth": 2,
            "linecolor": "white",
            "showbackground": true,
            "ticks": "",
            "zerolinecolor": "white"
           }
          },
          "shapedefaults": {
           "line": {
            "color": "#2a3f5f"
           }
          },
          "ternary": {
           "aaxis": {
            "gridcolor": "white",
            "linecolor": "white",
            "ticks": ""
           },
           "baxis": {
            "gridcolor": "white",
            "linecolor": "white",
            "ticks": ""
           },
           "bgcolor": "#E5ECF6",
           "caxis": {
            "gridcolor": "white",
            "linecolor": "white",
            "ticks": ""
           }
          },
          "title": {
           "x": 0.05
          },
          "xaxis": {
           "automargin": true,
           "gridcolor": "white",
           "linecolor": "white",
           "ticks": "",
           "title": {
            "standoff": 15
           },
           "zerolinecolor": "white",
           "zerolinewidth": 2
          },
          "yaxis": {
           "automargin": true,
           "gridcolor": "white",
           "linecolor": "white",
           "ticks": "",
           "title": {
            "standoff": 15
           },
           "zerolinecolor": "white",
           "zerolinewidth": 2
          }
         }
        },
        "xaxis": {
         "anchor": "y",
         "domain": [
          0,
          1
         ]
        },
        "xaxis2": {
         "anchor": "y2",
         "domain": [
          0,
          1
         ]
        },
        "yaxis": {
         "anchor": "x",
         "domain": [
          0.575,
          1
         ]
        },
        "yaxis2": {
         "anchor": "x2",
         "domain": [
          0,
          0.425
         ]
        }
       }
      }
     },
     "metadata": {},
     "output_type": "display_data"
    }
   ],
   "source": [
    "fig = make_subplots(rows=2, cols=1)\n",
    "\n",
    "tr1=go.Box(x=data['wind'],name='wind Box Plot',boxmean=True)\n",
    "tr2=go.Histogram(x=data['wind'],name='wind Histogram')\n",
    "\n",
    "fig.add_trace(tr1,row=1,col=1)\n",
    "fig.add_trace(tr2,row=2,col=1)\n",
    "\n",
    "fig.show()"
   ]
  },
  {
   "cell_type": "code",
   "execution_count": 16,
   "metadata": {},
   "outputs": [],
   "source": [
    "modified_data = data[data['wind']<=8]"
   ]
  },
  {
   "cell_type": "code",
   "execution_count": 17,
   "metadata": {},
   "outputs": [
    {
     "data": {
      "text/plain": [
       "area\n",
       "1    258\n",
       "0    246\n",
       "Name: count, dtype: int64"
      ]
     },
     "execution_count": 17,
     "metadata": {},
     "output_type": "execute_result"
    }
   ],
   "source": [
    "modified_data['area'].value_counts()"
   ]
  },
  {
   "cell_type": "code",
   "execution_count": 21,
   "metadata": {},
   "outputs": [
    {
     "name": "stdout",
     "output_type": "stream",
     "text": [
      "<class 'pandas.core.frame.DataFrame'>\n",
      "Index: 504 entries, 0 to 516\n",
      "Data columns (total 6 columns):\n",
      " #   Column  Non-Null Count  Dtype  \n",
      "---  ------  --------------  -----  \n",
      " 0   month   504 non-null    int64  \n",
      " 1   temp    504 non-null    float64\n",
      " 2   RH      504 non-null    int64  \n",
      " 3   wind    504 non-null    float64\n",
      " 4   rain    504 non-null    float64\n",
      " 5   area    504 non-null    int64  \n",
      "dtypes: float64(3), int64(3)\n",
      "memory usage: 27.6 KB\n"
     ]
    }
   ],
   "source": [
    "modified_data.info()"
   ]
  },
  {
   "cell_type": "code",
   "execution_count": 19,
   "metadata": {},
   "outputs": [],
   "source": [
    "modified_data.to_csv('data.csv')"
   ]
  }
 ],
 "metadata": {
  "kernelspec": {
   "display_name": "fp",
   "language": "python",
   "name": "python3"
  },
  "language_info": {
   "codemirror_mode": {
    "name": "ipython",
    "version": 3
   },
   "file_extension": ".py",
   "mimetype": "text/x-python",
   "name": "python",
   "nbconvert_exporter": "python",
   "pygments_lexer": "ipython3",
   "version": "3.13.0"
  }
 },
 "nbformat": 4,
 "nbformat_minor": 2
}
