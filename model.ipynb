{
 "cells": [
  {
   "cell_type": "code",
   "execution_count": 1,
   "metadata": {},
   "outputs": [],
   "source": [
    "import pandas as pd\n",
    "from sklearn.model_selection import train_test_split\n",
    "from sklearn.preprocessing import StandardScaler\n",
    "from sklearn.metrics import accuracy_score, classification_report, confusion_matrix\n",
    "from sklearn.model_selection import StratifiedKFold\n",
    "from sklearn.metrics import accuracy_score\n",
    "from sklearn.model_selection import cross_val_score"
   ]
  },
  {
   "cell_type": "code",
   "execution_count": 2,
   "metadata": {},
   "outputs": [],
   "source": [
    "df = pd.read_csv(\"data.csv\")\n",
    "X = df[['month','temp', 'RH', 'wind', 'rain']]\n",
    "y = df['area']"
   ]
  },
  {
   "cell_type": "code",
   "execution_count": 3,
   "metadata": {},
   "outputs": [],
   "source": [
    "X_train, X_test, y_train, y_test = train_test_split(X, y, test_size=0.2, random_state=42)"
   ]
  },
  {
   "cell_type": "code",
   "execution_count": 4,
   "metadata": {},
   "outputs": [],
   "source": [
    "scaler = StandardScaler()\n",
    "X_train = scaler.fit_transform(X_train)\n",
    "X_test = scaler.transform(X_test)"
   ]
  },
  {
   "cell_type": "code",
   "execution_count": 5,
   "metadata": {},
   "outputs": [],
   "source": [
    "# import pickle\n",
    "\n",
    "\n",
    "# def evaluate_model(model,curr_acc):\n",
    "#     model.fit(X_train, y_train)\n",
    "#     y_pred = model.predict(X_test)\n",
    "\n",
    "    \n",
    "#     print(f\"Model: {model.__class__.__name__}\")\n",
    "#     accuracy =  accuracy_score(y_test, y_pred)\n",
    "#     print(\"Accuracy:\", accuracy)\n",
    "#     print(classification_report(y_test, y_pred))\n",
    "#     print(confusion_matrix(y_test, y_pred))\n",
    "#     print(\"-\" * 50)\n",
    "\n",
    "#     if curr_acc < accuracy:\n",
    "#         curr_acc = accuracy\n",
    "#         print(f\"Best Model: {model.__class__.__name__}\")\n",
    "#         with open(\"model.pkl\", \"wb\") as file:\n",
    "#             pickle.dump(model, file)\n",
    "#     return curr_acc\n"
   ]
  },
  {
   "cell_type": "code",
   "execution_count": 6,
   "metadata": {},
   "outputs": [],
   "source": [
    "import pickle\n",
    "\n",
    "\n",
    "def evaluate_model(model,curr_acc):\n",
    "    k = 5\n",
    "    m = model\n",
    "    skf = StratifiedKFold(n_splits=k, shuffle=True, random_state=42)\n",
    "    accuracies = cross_val_score(model, X, y, cv=skf, scoring='accuracy')\n",
    "    print(\"Average accuracy:\", accuracies.mean())\n",
    "    \n",
    "    if accuracies.mean() > curr_acc:\n",
    "        curr_acc = accuracies.mean()\n",
    "        m.fit(X, y)\n",
    "        with open(\"model.pkl\", \"wb\") as file:\n",
    "            pickle.dump(m, file)\n",
    "\n",
    "        print(f\"Best Model: {m.__class__.__name__}\")\n",
    "    return curr_acc"
   ]
  },
  {
   "cell_type": "code",
   "execution_count": 7,
   "metadata": {},
   "outputs": [],
   "source": [
    "best_acc = 0"
   ]
  },
  {
   "cell_type": "code",
   "execution_count": 8,
   "metadata": {},
   "outputs": [
    {
     "name": "stdout",
     "output_type": "stream",
     "text": [
      "Average accuracy: 0.5137821782178218\n",
      "Best Model: LogisticRegression\n"
     ]
    }
   ],
   "source": [
    "from sklearn.linear_model import LogisticRegression\n",
    "best_acc = evaluate_model(LogisticRegression(),best_acc)"
   ]
  },
  {
   "cell_type": "code",
   "execution_count": 9,
   "metadata": {},
   "outputs": [
    {
     "name": "stdout",
     "output_type": "stream",
     "text": [
      "Average accuracy: 0.5257425742574258\n",
      "Best Model: KNeighborsClassifier\n"
     ]
    }
   ],
   "source": [
    "from sklearn.neighbors import KNeighborsClassifier\n",
    "best_acc=evaluate_model(KNeighborsClassifier(n_neighbors=5),best_acc)"
   ]
  },
  {
   "cell_type": "code",
   "execution_count": 10,
   "metadata": {},
   "outputs": [
    {
     "name": "stdout",
     "output_type": "stream",
     "text": [
      "Average accuracy: 0.5177623762376238\n"
     ]
    }
   ],
   "source": [
    "from sklearn.svm import SVC\n",
    "best_acc=evaluate_model(SVC(kernel='linear'),best_acc)"
   ]
  },
  {
   "cell_type": "code",
   "execution_count": 11,
   "metadata": {},
   "outputs": [
    {
     "name": "stdout",
     "output_type": "stream",
     "text": [
      "Average accuracy: 0.5416633663366337\n",
      "Best Model: DecisionTreeClassifier\n"
     ]
    }
   ],
   "source": [
    "from sklearn.tree import DecisionTreeClassifier\n",
    "best_acc=evaluate_model(DecisionTreeClassifier(),best_acc)"
   ]
  },
  {
   "cell_type": "code",
   "execution_count": 12,
   "metadata": {},
   "outputs": [
    {
     "name": "stdout",
     "output_type": "stream",
     "text": [
      "Average accuracy: 0.5633861386138614\n",
      "Best Model: RandomForestClassifier\n"
     ]
    }
   ],
   "source": [
    "from sklearn.ensemble import RandomForestClassifier\n",
    "best_acc=evaluate_model(RandomForestClassifier(n_estimators=100),best_acc)"
   ]
  },
  {
   "cell_type": "code",
   "execution_count": 13,
   "metadata": {},
   "outputs": [
    {
     "name": "stderr",
     "output_type": "stream",
     "text": [
      "/Users/mukesh/miniconda3/envs/fp/lib/python3.13/site-packages/xgboost/core.py:158: UserWarning: [10:35:47] WARNING: /Users/runner/work/xgboost/xgboost/src/learner.cc:740: \n",
      "Parameters: { \"use_label_encoder\" } are not used.\n",
      "\n",
      "  warnings.warn(smsg, UserWarning)\n",
      "/Users/mukesh/miniconda3/envs/fp/lib/python3.13/site-packages/xgboost/core.py:158: UserWarning: [10:35:47] WARNING: /Users/runner/work/xgboost/xgboost/src/learner.cc:740: \n",
      "Parameters: { \"use_label_encoder\" } are not used.\n",
      "\n",
      "  warnings.warn(smsg, UserWarning)\n",
      "/Users/mukesh/miniconda3/envs/fp/lib/python3.13/site-packages/xgboost/core.py:158: UserWarning: [10:35:47] WARNING: /Users/runner/work/xgboost/xgboost/src/learner.cc:740: \n",
      "Parameters: { \"use_label_encoder\" } are not used.\n",
      "\n",
      "  warnings.warn(smsg, UserWarning)\n",
      "/Users/mukesh/miniconda3/envs/fp/lib/python3.13/site-packages/xgboost/core.py:158: UserWarning: [10:35:47] WARNING: /Users/runner/work/xgboost/xgboost/src/learner.cc:740: \n",
      "Parameters: { \"use_label_encoder\" } are not used.\n",
      "\n",
      "  warnings.warn(smsg, UserWarning)\n",
      "/Users/mukesh/miniconda3/envs/fp/lib/python3.13/site-packages/xgboost/core.py:158: UserWarning: [10:35:47] WARNING: /Users/runner/work/xgboost/xgboost/src/learner.cc:740: \n",
      "Parameters: { \"use_label_encoder\" } are not used.\n",
      "\n",
      "  warnings.warn(smsg, UserWarning)\n",
      "/Users/mukesh/miniconda3/envs/fp/lib/python3.13/site-packages/xgboost/core.py:158: UserWarning: [10:35:47] WARNING: /Users/runner/work/xgboost/xgboost/src/learner.cc:740: \n",
      "Parameters: { \"use_label_encoder\" } are not used.\n",
      "\n",
      "  warnings.warn(smsg, UserWarning)\n"
     ]
    },
    {
     "name": "stdout",
     "output_type": "stream",
     "text": [
      "Average accuracy: 0.5654851485148515\n",
      "Best Model: XGBClassifier\n"
     ]
    }
   ],
   "source": [
    "from xgboost import XGBClassifier\n",
    "best_acc=evaluate_model(XGBClassifier(use_label_encoder=False, eval_metric='logloss'),best_acc)"
   ]
  },
  {
   "cell_type": "code",
   "execution_count": 14,
   "metadata": {},
   "outputs": [
    {
     "name": "stdout",
     "output_type": "stream",
     "text": [
      "Average accuracy: 0.4741584158415842\n"
     ]
    }
   ],
   "source": [
    "from sklearn.naive_bayes import GaussianNB\n",
    "best_acc=evaluate_model(GaussianNB(),best_acc)"
   ]
  },
  {
   "cell_type": "code",
   "execution_count": 15,
   "metadata": {},
   "outputs": [
    {
     "name": "stdout",
     "output_type": "stream",
     "text": [
      "Average accuracy: 0.5019207920792079\n"
     ]
    }
   ],
   "source": [
    "from sklearn.neural_network import MLPClassifier\n",
    "best_acc=evaluate_model(MLPClassifier(hidden_layer_sizes=(50,50), max_iter=500),best_acc)"
   ]
  },
  {
   "cell_type": "markdown",
   "metadata": {},
   "source": [
    "Stacking the model to see, if it performs better"
   ]
  },
  {
   "cell_type": "code",
   "execution_count": 17,
   "metadata": {},
   "outputs": [
    {
     "name": "stdout",
     "output_type": "stream",
     "text": [
      "Accuracy: 0.5841584158415841\n"
     ]
    }
   ],
   "source": [
    "from sklearn.ensemble import StackingClassifier\n",
    "from sklearn.ensemble import RandomForestClassifier\n",
    "from sklearn.neighbors import KNeighborsClassifier\n",
    "from sklearn.linear_model import LogisticRegression\n",
    "from sklearn.model_selection import train_test_split\n",
    "from sklearn.metrics import accuracy_score\n",
    "\n",
    "# Split your dataset\n",
    "X_train, X_test, y_train, y_test = train_test_split(X, y, test_size=0.2, random_state=42)\n",
    "\n",
    "# Define base models\n",
    "base_models = [\n",
    "    ('rf1', RandomForestClassifier(n_estimators=100)),\n",
    "    # ('rf2', RandomForestClassifier(n_estimators=200)),\n",
    "    ('dt', DecisionTreeClassifier()),\n",
    "    ('xgb', XGBClassifier( eval_metric='logloss')),\n",
    "    # ('KNN', KNeighborsClassifier(n_neighbors=5)),\n",
    "    # ('svc', SVC(kernel='linear')),\n",
    "]\n",
    "\n",
    "# Define meta model\n",
    "meta_model = RandomForestClassifier(n_estimators=100)\n",
    "# meta_model = XGBClassifier( eval_metric='logloss')\n",
    "\n",
    "# Set up the stacking classifier\n",
    "stacking_clf = StackingClassifier(estimators=base_models, final_estimator=meta_model, cv=5)\n",
    "\n",
    "# Train the model\n",
    "stacking_clf.fit(X_train, y_train)\n",
    "\n",
    "# Make predictions\n",
    "y_pred = stacking_clf.predict(X_test)\n",
    "\n",
    "# Evaluate accuracy\n",
    "accuracy = accuracy_score(y_test, y_pred)\n",
    "print(f'Accuracy: {accuracy}')\n"
   ]
  },
  {
   "cell_type": "code",
   "execution_count": null,
   "metadata": {},
   "outputs": [],
   "source": []
  }
 ],
 "metadata": {
  "kernelspec": {
   "display_name": "fp",
   "language": "python",
   "name": "python3"
  },
  "language_info": {
   "codemirror_mode": {
    "name": "ipython",
    "version": 3
   },
   "file_extension": ".py",
   "mimetype": "text/x-python",
   "name": "python",
   "nbconvert_exporter": "python",
   "pygments_lexer": "ipython3",
   "version": "3.13.0"
  }
 },
 "nbformat": 4,
 "nbformat_minor": 2
}
