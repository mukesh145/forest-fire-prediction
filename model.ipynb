{
 "cells": [
  {
   "cell_type": "code",
   "execution_count": 8,
   "metadata": {},
   "outputs": [],
   "source": [
    "import pandas as pd\n",
    "from sklearn.model_selection import train_test_split\n",
    "from sklearn.preprocessing import StandardScaler\n",
    "from sklearn.metrics import accuracy_score, classification_report, confusion_matrix"
   ]
  },
  {
   "cell_type": "code",
   "execution_count": 9,
   "metadata": {},
   "outputs": [],
   "source": [
    "df = pd.read_csv(\"data.csv\")\n",
    "X = df[['temp', 'RH', 'wind', 'rain']]\n",
    "y = df['area']"
   ]
  },
  {
   "cell_type": "code",
   "execution_count": 10,
   "metadata": {},
   "outputs": [],
   "source": [
    "X_train, X_test, y_train, y_test = train_test_split(X, y, test_size=0.2, random_state=42)"
   ]
  },
  {
   "cell_type": "code",
   "execution_count": 11,
   "metadata": {},
   "outputs": [],
   "source": [
    "scaler = StandardScaler()\n",
    "X_train = scaler.fit_transform(X_train)\n",
    "X_test = scaler.transform(X_test)"
   ]
  },
  {
   "cell_type": "code",
   "execution_count": 12,
   "metadata": {},
   "outputs": [],
   "source": [
    "import pickle\n",
    "\n",
    "\n",
    "def evaluate_model(model,curr_acc):\n",
    "    model.fit(X_train, y_train)\n",
    "    y_pred = model.predict(X_test)\n",
    "\n",
    "    \n",
    "    print(f\"Model: {model.__class__.__name__}\")\n",
    "    accuracy =  accuracy_score(y_test, y_pred)\n",
    "    print(\"Accuracy:\", accuracy)\n",
    "    print(classification_report(y_test, y_pred))\n",
    "    print(confusion_matrix(y_test, y_pred))\n",
    "    print(\"-\" * 50)\n",
    "\n",
    "    if curr_acc < accuracy:\n",
    "        curr_acc = accuracy\n",
    "        print(f\"Best Model: {model.__class__.__name__}\")\n",
    "        with open(\"model.pkl\", \"wb\") as file:\n",
    "            pickle.dump(model, file)\n",
    "    return curr_acc\n"
   ]
  },
  {
   "cell_type": "code",
   "execution_count": 13,
   "metadata": {},
   "outputs": [],
   "source": [
    "best_acc = 0"
   ]
  },
  {
   "cell_type": "code",
   "execution_count": 14,
   "metadata": {},
   "outputs": [
    {
     "name": "stdout",
     "output_type": "stream",
     "text": [
      "Model: LogisticRegression\n",
      "Accuracy: 0.5192307692307693\n",
      "              precision    recall  f1-score   support\n",
      "\n",
      "           0       0.52      0.29      0.38        51\n",
      "           1       0.52      0.74      0.61        53\n",
      "\n",
      "    accuracy                           0.52       104\n",
      "   macro avg       0.52      0.51      0.49       104\n",
      "weighted avg       0.52      0.52      0.49       104\n",
      "\n",
      "[[15 36]\n",
      " [14 39]]\n",
      "--------------------------------------------------\n",
      "Best Model: LogisticRegression\n"
     ]
    }
   ],
   "source": [
    "from sklearn.linear_model import LogisticRegression\n",
    "best_acc = evaluate_model(LogisticRegression(),best_acc)"
   ]
  },
  {
   "cell_type": "code",
   "execution_count": 15,
   "metadata": {},
   "outputs": [
    {
     "name": "stdout",
     "output_type": "stream",
     "text": [
      "Model: KNeighborsClassifier\n",
      "Accuracy: 0.5673076923076923\n",
      "              precision    recall  f1-score   support\n",
      "\n",
      "           0       0.56      0.55      0.55        51\n",
      "           1       0.57      0.58      0.58        53\n",
      "\n",
      "    accuracy                           0.57       104\n",
      "   macro avg       0.57      0.57      0.57       104\n",
      "weighted avg       0.57      0.57      0.57       104\n",
      "\n",
      "[[28 23]\n",
      " [22 31]]\n",
      "--------------------------------------------------\n",
      "Best Model: KNeighborsClassifier\n"
     ]
    }
   ],
   "source": [
    "from sklearn.neighbors import KNeighborsClassifier\n",
    "best_acc=evaluate_model(KNeighborsClassifier(n_neighbors=5),best_acc)"
   ]
  },
  {
   "cell_type": "code",
   "execution_count": 16,
   "metadata": {},
   "outputs": [
    {
     "name": "stdout",
     "output_type": "stream",
     "text": [
      "Model: SVC\n",
      "Accuracy: 0.5096153846153846\n",
      "              precision    recall  f1-score   support\n",
      "\n",
      "           0       0.00      0.00      0.00        51\n",
      "           1       0.51      1.00      0.68        53\n",
      "\n",
      "    accuracy                           0.51       104\n",
      "   macro avg       0.25      0.50      0.34       104\n",
      "weighted avg       0.26      0.51      0.34       104\n",
      "\n",
      "[[ 0 51]\n",
      " [ 0 53]]\n",
      "--------------------------------------------------\n"
     ]
    },
    {
     "name": "stderr",
     "output_type": "stream",
     "text": [
      "/Users/mukesh/miniconda3/envs/fp/lib/python3.13/site-packages/sklearn/metrics/_classification.py:1531: UndefinedMetricWarning: Precision is ill-defined and being set to 0.0 in labels with no predicted samples. Use `zero_division` parameter to control this behavior.\n",
      "  _warn_prf(average, modifier, f\"{metric.capitalize()} is\", len(result))\n",
      "/Users/mukesh/miniconda3/envs/fp/lib/python3.13/site-packages/sklearn/metrics/_classification.py:1531: UndefinedMetricWarning: Precision is ill-defined and being set to 0.0 in labels with no predicted samples. Use `zero_division` parameter to control this behavior.\n",
      "  _warn_prf(average, modifier, f\"{metric.capitalize()} is\", len(result))\n",
      "/Users/mukesh/miniconda3/envs/fp/lib/python3.13/site-packages/sklearn/metrics/_classification.py:1531: UndefinedMetricWarning: Precision is ill-defined and being set to 0.0 in labels with no predicted samples. Use `zero_division` parameter to control this behavior.\n",
      "  _warn_prf(average, modifier, f\"{metric.capitalize()} is\", len(result))\n"
     ]
    }
   ],
   "source": [
    "from sklearn.svm import SVC\n",
    "best_acc=evaluate_model(SVC(kernel='linear'),best_acc)"
   ]
  },
  {
   "cell_type": "code",
   "execution_count": 17,
   "metadata": {},
   "outputs": [
    {
     "name": "stdout",
     "output_type": "stream",
     "text": [
      "Model: DecisionTreeClassifier\n",
      "Accuracy: 0.5673076923076923\n",
      "              precision    recall  f1-score   support\n",
      "\n",
      "           0       0.56      0.59      0.57        51\n",
      "           1       0.58      0.55      0.56        53\n",
      "\n",
      "    accuracy                           0.57       104\n",
      "   macro avg       0.57      0.57      0.57       104\n",
      "weighted avg       0.57      0.57      0.57       104\n",
      "\n",
      "[[30 21]\n",
      " [24 29]]\n",
      "--------------------------------------------------\n"
     ]
    }
   ],
   "source": [
    "from sklearn.tree import DecisionTreeClassifier\n",
    "best_acc=evaluate_model(DecisionTreeClassifier(),best_acc)"
   ]
  },
  {
   "cell_type": "code",
   "execution_count": 18,
   "metadata": {},
   "outputs": [
    {
     "name": "stdout",
     "output_type": "stream",
     "text": [
      "Model: RandomForestClassifier\n",
      "Accuracy: 0.6538461538461539\n",
      "              precision    recall  f1-score   support\n",
      "\n",
      "           0       0.65      0.63      0.64        51\n",
      "           1       0.65      0.68      0.67        53\n",
      "\n",
      "    accuracy                           0.65       104\n",
      "   macro avg       0.65      0.65      0.65       104\n",
      "weighted avg       0.65      0.65      0.65       104\n",
      "\n",
      "[[32 19]\n",
      " [17 36]]\n",
      "--------------------------------------------------\n",
      "Best Model: RandomForestClassifier\n"
     ]
    }
   ],
   "source": [
    "from sklearn.ensemble import RandomForestClassifier\n",
    "best_acc=evaluate_model(RandomForestClassifier(n_estimators=100),best_acc)"
   ]
  },
  {
   "cell_type": "code",
   "execution_count": 19,
   "metadata": {},
   "outputs": [
    {
     "name": "stderr",
     "output_type": "stream",
     "text": [
      "/Users/mukesh/miniconda3/envs/fp/lib/python3.13/site-packages/xgboost/core.py:158: UserWarning: [13:03:05] WARNING: /Users/runner/work/xgboost/xgboost/src/learner.cc:740: \n",
      "Parameters: { \"use_label_encoder\" } are not used.\n",
      "\n",
      "  warnings.warn(smsg, UserWarning)\n"
     ]
    },
    {
     "name": "stdout",
     "output_type": "stream",
     "text": [
      "Model: XGBClassifier\n",
      "Accuracy: 0.5480769230769231\n",
      "              precision    recall  f1-score   support\n",
      "\n",
      "           0       0.54      0.59      0.56        51\n",
      "           1       0.56      0.51      0.53        53\n",
      "\n",
      "    accuracy                           0.55       104\n",
      "   macro avg       0.55      0.55      0.55       104\n",
      "weighted avg       0.55      0.55      0.55       104\n",
      "\n",
      "[[30 21]\n",
      " [26 27]]\n",
      "--------------------------------------------------\n"
     ]
    }
   ],
   "source": [
    "from xgboost import XGBClassifier\n",
    "best_acc=evaluate_model(XGBClassifier(use_label_encoder=False, eval_metric='logloss'),best_acc)"
   ]
  },
  {
   "cell_type": "code",
   "execution_count": 20,
   "metadata": {},
   "outputs": [
    {
     "name": "stdout",
     "output_type": "stream",
     "text": [
      "Model: GaussianNB\n",
      "Accuracy: 0.49038461538461536\n",
      "              precision    recall  f1-score   support\n",
      "\n",
      "           0       0.49      0.98      0.65        51\n",
      "           1       0.50      0.02      0.04        53\n",
      "\n",
      "    accuracy                           0.49       104\n",
      "   macro avg       0.50      0.50      0.34       104\n",
      "weighted avg       0.50      0.49      0.34       104\n",
      "\n",
      "[[50  1]\n",
      " [52  1]]\n",
      "--------------------------------------------------\n"
     ]
    }
   ],
   "source": [
    "from sklearn.naive_bayes import GaussianNB\n",
    "best_acc=evaluate_model(GaussianNB(),best_acc)"
   ]
  },
  {
   "cell_type": "code",
   "execution_count": 21,
   "metadata": {},
   "outputs": [
    {
     "name": "stdout",
     "output_type": "stream",
     "text": [
      "Model: MLPClassifier\n",
      "Accuracy: 0.5480769230769231\n",
      "              precision    recall  f1-score   support\n",
      "\n",
      "           0       0.56      0.39      0.46        51\n",
      "           1       0.54      0.70      0.61        53\n",
      "\n",
      "    accuracy                           0.55       104\n",
      "   macro avg       0.55      0.55      0.54       104\n",
      "weighted avg       0.55      0.55      0.54       104\n",
      "\n",
      "[[20 31]\n",
      " [16 37]]\n",
      "--------------------------------------------------\n"
     ]
    }
   ],
   "source": [
    "from sklearn.neural_network import MLPClassifier\n",
    "best_acc=evaluate_model(MLPClassifier(hidden_layer_sizes=(50,50), max_iter=500),best_acc)"
   ]
  }
 ],
 "metadata": {
  "kernelspec": {
   "display_name": "fp",
   "language": "python",
   "name": "python3"
  },
  "language_info": {
   "codemirror_mode": {
    "name": "ipython",
    "version": 3
   },
   "file_extension": ".py",
   "mimetype": "text/x-python",
   "name": "python",
   "nbconvert_exporter": "python",
   "pygments_lexer": "ipython3",
   "version": "3.13.0"
  }
 },
 "nbformat": 4,
 "nbformat_minor": 2
}
